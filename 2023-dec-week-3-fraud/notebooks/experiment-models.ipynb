{
 "cells": [
  {
   "cell_type": "code",
   "execution_count": 1,
   "metadata": {},
   "outputs": [],
   "source": [
    "# import packages\n",
    "import polars as pl\n",
    "import numpy as np \n",
    "import pandas as pd \n",
    "\n",
    "import lightgbm as lgb\n",
    "import multiprocessing as mp\n",
    "\n",
    "from sklearn.pipeline import Pipeline\n",
    "from sklearn.impute import SimpleImputer\n",
    "from sklearn.compose import ColumnTransformer\n",
    "from sklearn.metrics import confusion_matrix\n",
    "from sklearn.metrics import classification_report\n",
    "from sklearn.model_selection import train_test_split\n",
    "from sklearn.preprocessing import FunctionTransformer, LabelEncoder, OneHotEncoder, StandardScaler\n",
    "\n",
    "from category_encoders.binary import BinaryEncoder\n",
    "from imblearn.under_sampling import RandomUnderSampler\n",
    "from imblearn.pipeline import Pipeline as imbpipeline \n",
    "\n",
    "# import warnings\n",
    "# warnings.filterwarnings('ignore')"
   ]
  },
  {
   "cell_type": "code",
   "execution_count": 2,
   "metadata": {},
   "outputs": [
    {
     "data": {
      "text/html": [
       "<div><style>\n",
       ".dataframe > thead > tr,\n",
       ".dataframe > tbody > tr {\n",
       "  text-align: right;\n",
       "  white-space: pre-wrap;\n",
       "}\n",
       "</style>\n",
       "<small>shape: (24_386_900, 15)</small><table border=\"1\" class=\"dataframe\"><thead><tr><th>user_id</th><th>card_index</th><th>trx_amount</th><th>trx_method</th><th>merch_name</th><th>merch_city</th><th>merch_state</th><th>zip_code</th><th>merch_category_code</th><th>error_status</th><th>is_fraud</th><th>timestamp_transaction</th><th>weekday</th><th>hour</th><th>minute</th></tr><tr><td>i64</td><td>i64</td><td>f64</td><td>cat</td><td>str</td><td>str</td><td>str</td><td>str</td><td>cat</td><td>cat</td><td>str</td><td>datetime[μs]</td><td>i8</td><td>i8</td><td>i8</td></tr></thead><tbody><tr><td>0</td><td>0</td><td>134.09</td><td>&quot;Swipe Transact…</td><td>&quot;35272132461278…</td><td>&quot;La Verne&quot;</td><td>&quot;CA&quot;</td><td>&quot;9175&quot;</td><td>&quot;5300&quot;</td><td>&quot;No Error&quot;</td><td>&quot;No&quot;</td><td>2002-09-01 06:21:00</td><td>7</td><td>6</td><td>21</td></tr><tr><td>0</td><td>0</td><td>38.48</td><td>&quot;Swipe Transact…</td><td>&quot;-7276120921399…</td><td>&quot;Monterey Park&quot;</td><td>&quot;CA&quot;</td><td>&quot;91754&quot;</td><td>&quot;5411&quot;</td><td>&quot;No Error&quot;</td><td>&quot;No&quot;</td><td>2002-09-01 06:42:00</td><td>7</td><td>6</td><td>42</td></tr><tr><td>0</td><td>0</td><td>120.34</td><td>&quot;Swipe Transact…</td><td>&quot;-7276120921399…</td><td>&quot;Monterey Park&quot;</td><td>&quot;CA&quot;</td><td>&quot;91754&quot;</td><td>&quot;5411&quot;</td><td>&quot;No Error&quot;</td><td>&quot;No&quot;</td><td>2002-09-02 06:22:00</td><td>1</td><td>6</td><td>22</td></tr><tr><td>0</td><td>0</td><td>128.95</td><td>&quot;Swipe Transact…</td><td>&quot;34145274595791…</td><td>&quot;Monterey Park&quot;</td><td>&quot;CA&quot;</td><td>&quot;91754&quot;</td><td>&quot;5651&quot;</td><td>&quot;No Error&quot;</td><td>&quot;No&quot;</td><td>2002-09-02 17:45:00</td><td>1</td><td>17</td><td>45</td></tr><tr><td>0</td><td>0</td><td>104.71</td><td>&quot;Swipe Transact…</td><td>&quot;58172184461787…</td><td>&quot;La Verne&quot;</td><td>&quot;CA&quot;</td><td>&quot;9175&quot;</td><td>&quot;5912&quot;</td><td>&quot;No Error&quot;</td><td>&quot;No&quot;</td><td>2002-09-03 06:23:00</td><td>2</td><td>6</td><td>23</td></tr><tr><td>0</td><td>0</td><td>86.19</td><td>&quot;Swipe Transact…</td><td>&quot;-7146670748125…</td><td>&quot;Monterey Park&quot;</td><td>&quot;CA&quot;</td><td>&quot;91755&quot;</td><td>&quot;5970&quot;</td><td>&quot;No Error&quot;</td><td>&quot;No&quot;</td><td>2002-09-03 13:53:00</td><td>2</td><td>13</td><td>53</td></tr><tr><td>0</td><td>0</td><td>93.84</td><td>&quot;Swipe Transact…</td><td>&quot;-7276120921399…</td><td>&quot;Monterey Park&quot;</td><td>&quot;CA&quot;</td><td>&quot;91754&quot;</td><td>&quot;5411&quot;</td><td>&quot;No Error&quot;</td><td>&quot;No&quot;</td><td>2002-09-04 05:51:00</td><td>3</td><td>5</td><td>51</td></tr><tr><td>0</td><td>0</td><td>123.5</td><td>&quot;Swipe Transact…</td><td>&quot;-7276120921399…</td><td>&quot;Monterey Park&quot;</td><td>&quot;CA&quot;</td><td>&quot;91754&quot;</td><td>&quot;5411&quot;</td><td>&quot;No Error&quot;</td><td>&quot;No&quot;</td><td>2002-09-04 06:09:00</td><td>3</td><td>6</td><td>9</td></tr><tr><td>0</td><td>0</td><td>61.72</td><td>&quot;Swipe Transact…</td><td>&quot;-7276120921399…</td><td>&quot;Monterey Park&quot;</td><td>&quot;CA&quot;</td><td>&quot;91754&quot;</td><td>&quot;5411&quot;</td><td>&quot;No Error&quot;</td><td>&quot;No&quot;</td><td>2002-09-05 06:14:00</td><td>4</td><td>6</td><td>14</td></tr><tr><td>0</td><td>0</td><td>57.1</td><td>&quot;Swipe Transact…</td><td>&quot;40552570784810…</td><td>&quot;La Verne&quot;</td><td>&quot;CA&quot;</td><td>&quot;9175&quot;</td><td>&quot;7538&quot;</td><td>&quot;No Error&quot;</td><td>&quot;No&quot;</td><td>2002-09-05 09:35:00</td><td>4</td><td>9</td><td>35</td></tr><tr><td>0</td><td>0</td><td>76.07</td><td>&quot;Swipe Transact…</td><td>&quot;-4500542936415…</td><td>&quot;La Verne&quot;</td><td>&quot;CA&quot;</td><td>&quot;9175&quot;</td><td>&quot;5814&quot;</td><td>&quot;No Error&quot;</td><td>&quot;No&quot;</td><td>2002-09-05 20:18:00</td><td>4</td><td>20</td><td>18</td></tr><tr><td>0</td><td>0</td><td>53.91</td><td>&quot;Online Transac…</td><td>&quot;-9092677072201…</td><td>&quot;ONLINE&quot;</td><td>null</td><td>null</td><td>&quot;4900&quot;</td><td>&quot;No Error&quot;</td><td>&quot;No&quot;</td><td>2002-09-05 20:41:00</td><td>4</td><td>20</td><td>41</td></tr><tr><td>&hellip;</td><td>&hellip;</td><td>&hellip;</td><td>&hellip;</td><td>&hellip;</td><td>&hellip;</td><td>&hellip;</td><td>&hellip;</td><td>&hellip;</td><td>&hellip;</td><td>&hellip;</td><td>&hellip;</td><td>&hellip;</td><td>&hellip;</td><td>&hellip;</td></tr><tr><td>1999</td><td>1</td><td>44.54</td><td>&quot;Chip Transacti…</td><td>&quot;25009987998928…</td><td>&quot;Merrimack&quot;</td><td>&quot;NH&quot;</td><td>&quot;3054&quot;</td><td>&quot;4121&quot;</td><td>&quot;No Error&quot;</td><td>&quot;No&quot;</td><td>2020-02-26 20:18:00</td><td>3</td><td>20</td><td>18</td></tr><tr><td>1999</td><td>1</td><td>47.18</td><td>&quot;Online Transac…</td><td>&quot;-5841929396161…</td><td>&quot;ONLINE&quot;</td><td>null</td><td>null</td><td>&quot;4121&quot;</td><td>&quot;No Error&quot;</td><td>&quot;No&quot;</td><td>2020-02-27 07:47:00</td><td>4</td><td>7</td><td>47</td></tr><tr><td>1999</td><td>1</td><td>120.0</td><td>&quot;Chip Transacti…</td><td>&quot;-4282466774399…</td><td>&quot;Berlin&quot;</td><td>&quot;NH&quot;</td><td>&quot;357&quot;</td><td>&quot;4829&quot;</td><td>&quot;No Error&quot;</td><td>&quot;No&quot;</td><td>2020-02-27 09:31:00</td><td>4</td><td>9</td><td>31</td></tr><tr><td>1999</td><td>1</td><td>12.91</td><td>&quot;Chip Transacti…</td><td>&quot;34145274595791…</td><td>&quot;Nashua&quot;</td><td>&quot;NH&quot;</td><td>&quot;3064&quot;</td><td>&quot;5651&quot;</td><td>&quot;No Error&quot;</td><td>&quot;No&quot;</td><td>2020-02-27 11:36:00</td><td>4</td><td>11</td><td>36</td></tr><tr><td>1999</td><td>1</td><td>15.52</td><td>&quot;Chip Transacti…</td><td>&quot;97032797689821…</td><td>&quot;Merrimack&quot;</td><td>&quot;NH&quot;</td><td>&quot;3054&quot;</td><td>&quot;5411&quot;</td><td>&quot;No Error&quot;</td><td>&quot;No&quot;</td><td>2020-02-27 20:18:00</td><td>4</td><td>20</td><td>18</td></tr><tr><td>1999</td><td>1</td><td>56.67</td><td>&quot;Chip Transacti…</td><td>&quot;25009987998928…</td><td>&quot;Merrimack&quot;</td><td>&quot;NH&quot;</td><td>&quot;3054&quot;</td><td>&quot;4121&quot;</td><td>&quot;No Error&quot;</td><td>&quot;No&quot;</td><td>2020-02-27 20:29:00</td><td>4</td><td>20</td><td>29</td></tr><tr><td>1999</td><td>1</td><td>63.43</td><td>&quot;Chip Transacti…</td><td>&quot;-5162038175624…</td><td>&quot;Merrimack&quot;</td><td>&quot;NH&quot;</td><td>&quot;3054&quot;</td><td>&quot;5541&quot;</td><td>&quot;No Error&quot;</td><td>&quot;No&quot;</td><td>2020-02-27 22:18:00</td><td>4</td><td>22</td><td>18</td></tr><tr><td>1999</td><td>1</td><td>54.0</td><td>&quot;Chip Transacti…</td><td>&quot;-5162038175624…</td><td>&quot;Merrimack&quot;</td><td>&quot;NH&quot;</td><td>&quot;3054&quot;</td><td>&quot;5541&quot;</td><td>&quot;No Error&quot;</td><td>&quot;No&quot;</td><td>2020-02-27 22:23:00</td><td>4</td><td>22</td><td>23</td></tr><tr><td>1999</td><td>1</td><td>54.0</td><td>&quot;Chip Transacti…</td><td>&quot;-5162038175624…</td><td>&quot;Merrimack&quot;</td><td>&quot;NH&quot;</td><td>&quot;3054&quot;</td><td>&quot;5541&quot;</td><td>&quot;No Error&quot;</td><td>&quot;No&quot;</td><td>2020-02-27 22:24:00</td><td>4</td><td>22</td><td>24</td></tr><tr><td>1999</td><td>1</td><td>59.15</td><td>&quot;Chip Transacti…</td><td>&quot;25009987998928…</td><td>&quot;Merrimack&quot;</td><td>&quot;NH&quot;</td><td>&quot;3054&quot;</td><td>&quot;4121&quot;</td><td>&quot;No Error&quot;</td><td>&quot;No&quot;</td><td>2020-02-28 07:43:00</td><td>5</td><td>7</td><td>43</td></tr><tr><td>1999</td><td>1</td><td>43.12</td><td>&quot;Chip Transacti…</td><td>&quot;25009987998928…</td><td>&quot;Merrimack&quot;</td><td>&quot;NH&quot;</td><td>&quot;3054&quot;</td><td>&quot;4121&quot;</td><td>&quot;No Error&quot;</td><td>&quot;No&quot;</td><td>2020-02-28 20:10:00</td><td>5</td><td>20</td><td>10</td></tr><tr><td>1999</td><td>1</td><td>45.13</td><td>&quot;Chip Transacti…</td><td>&quot;47516958357516…</td><td>&quot;Merrimack&quot;</td><td>&quot;NH&quot;</td><td>&quot;3054&quot;</td><td>&quot;5814&quot;</td><td>&quot;No Error&quot;</td><td>&quot;No&quot;</td><td>2020-02-28 23:10:00</td><td>5</td><td>23</td><td>10</td></tr></tbody></table></div>"
      ],
      "text/plain": [
       "shape: (24_386_900, 15)\n",
       "┌─────────┬────────────┬────────────┬────────────────┬───┬───────────────┬─────────┬──────┬────────┐\n",
       "│ user_id ┆ card_index ┆ trx_amount ┆ trx_method     ┆ … ┆ timestamp_tra ┆ weekday ┆ hour ┆ minute │\n",
       "│ ---     ┆ ---        ┆ ---        ┆ ---            ┆   ┆ nsaction      ┆ ---     ┆ ---  ┆ ---    │\n",
       "│ i64     ┆ i64        ┆ f64        ┆ cat            ┆   ┆ ---           ┆ i8      ┆ i8   ┆ i8     │\n",
       "│         ┆            ┆            ┆                ┆   ┆ datetime[μs]  ┆         ┆      ┆        │\n",
       "╞═════════╪════════════╪════════════╪════════════════╪═══╪═══════════════╪═════════╪══════╪════════╡\n",
       "│ 0       ┆ 0          ┆ 134.09     ┆ Swipe          ┆ … ┆ 2002-09-01    ┆ 7       ┆ 6    ┆ 21     │\n",
       "│         ┆            ┆            ┆ Transaction    ┆   ┆ 06:21:00      ┆         ┆      ┆        │\n",
       "│ 0       ┆ 0          ┆ 38.48      ┆ Swipe          ┆ … ┆ 2002-09-01    ┆ 7       ┆ 6    ┆ 42     │\n",
       "│         ┆            ┆            ┆ Transaction    ┆   ┆ 06:42:00      ┆         ┆      ┆        │\n",
       "│ 0       ┆ 0          ┆ 120.34     ┆ Swipe          ┆ … ┆ 2002-09-02    ┆ 1       ┆ 6    ┆ 22     │\n",
       "│         ┆            ┆            ┆ Transaction    ┆   ┆ 06:22:00      ┆         ┆      ┆        │\n",
       "│ 0       ┆ 0          ┆ 128.95     ┆ Swipe          ┆ … ┆ 2002-09-02    ┆ 1       ┆ 17   ┆ 45     │\n",
       "│         ┆            ┆            ┆ Transaction    ┆   ┆ 17:45:00      ┆         ┆      ┆        │\n",
       "│ …       ┆ …          ┆ …          ┆ …              ┆ … ┆ …             ┆ …       ┆ …    ┆ …      │\n",
       "│ 1999    ┆ 1          ┆ 54.0       ┆ Chip           ┆ … ┆ 2020-02-27    ┆ 4       ┆ 22   ┆ 24     │\n",
       "│         ┆            ┆            ┆ Transaction    ┆   ┆ 22:24:00      ┆         ┆      ┆        │\n",
       "│ 1999    ┆ 1          ┆ 59.15      ┆ Chip           ┆ … ┆ 2020-02-28    ┆ 5       ┆ 7    ┆ 43     │\n",
       "│         ┆            ┆            ┆ Transaction    ┆   ┆ 07:43:00      ┆         ┆      ┆        │\n",
       "│ 1999    ┆ 1          ┆ 43.12      ┆ Chip           ┆ … ┆ 2020-02-28    ┆ 5       ┆ 20   ┆ 10     │\n",
       "│         ┆            ┆            ┆ Transaction    ┆   ┆ 20:10:00      ┆         ┆      ┆        │\n",
       "│ 1999    ┆ 1          ┆ 45.13      ┆ Chip           ┆ … ┆ 2020-02-28    ┆ 5       ┆ 23   ┆ 10     │\n",
       "│         ┆            ┆            ┆ Transaction    ┆   ┆ 23:10:00      ┆         ┆      ┆        │\n",
       "└─────────┴────────────┴────────────┴────────────────┴───┴───────────────┴─────────┴──────┴────────┘"
      ]
     },
     "execution_count": 2,
     "metadata": {},
     "output_type": "execute_result"
    }
   ],
   "source": [
    "prepared_df = pl.read_parquet(\"../clean-datasets/transactions_prepared.parquet\")\n",
    "\n",
    "prepared_df"
   ]
  },
  {
   "cell_type": "code",
   "execution_count": null,
   "metadata": {},
   "outputs": [],
   "source": []
  },
  {
   "cell_type": "code",
   "execution_count": null,
   "metadata": {},
   "outputs": [],
   "source": []
  },
  {
   "cell_type": "code",
   "execution_count": null,
   "metadata": {},
   "outputs": [],
   "source": []
  },
  {
   "cell_type": "code",
   "execution_count": null,
   "metadata": {},
   "outputs": [],
   "source": []
  },
  {
   "cell_type": "code",
   "execution_count": null,
   "metadata": {},
   "outputs": [],
   "source": []
  }
 ],
 "metadata": {
  "kernelspec": {
   "display_name": ".venv",
   "language": "python",
   "name": "python3"
  },
  "language_info": {
   "codemirror_mode": {
    "name": "ipython",
    "version": 3
   },
   "file_extension": ".py",
   "mimetype": "text/x-python",
   "name": "python",
   "nbconvert_exporter": "python",
   "pygments_lexer": "ipython3",
   "version": "3.9.13"
  }
 },
 "nbformat": 4,
 "nbformat_minor": 2
}
