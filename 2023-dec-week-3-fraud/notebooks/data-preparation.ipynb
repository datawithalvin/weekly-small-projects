{
 "cells": [
  {
   "cell_type": "markdown",
   "metadata": {},
   "source": [
    "# Data Preparation for Fraud Detection\n",
    "\n",
    "This notebook is dedicated to preparing the dataset for a fraud detection model. The focus is on cleaning, transforming, and inital exploring the data to ensure it's well-suited for effective model training."
   ]
  },
  {
   "cell_type": "code",
   "execution_count": 1,
   "metadata": {},
   "outputs": [
    {
     "data": {
      "text/plain": [
       "polars.config.Config"
      ]
     },
     "execution_count": 1,
     "metadata": {},
     "output_type": "execute_result"
    }
   ],
   "source": [
    "# import required libraries\n",
    "import polars as pl\n",
    "\n",
    "# adjust display setting polars\n",
    "pl.Config.set_tbl_cols(-1)"
   ]
  },
  {
   "cell_type": "markdown",
   "metadata": {},
   "source": [
    "## Initial Exploration\n",
    "Begin with an initial exploratory to understand the dataset's structure, identify any immediate issues, and plan for necessary data cleaning steps."
   ]
  },
  {
   "cell_type": "code",
   "execution_count": 2,
   "metadata": {},
   "outputs": [
    {
     "data": {
      "text/html": [
       "<div><style>\n",
       ".dataframe > thead > tr,\n",
       ".dataframe > tbody > tr {\n",
       "  text-align: right;\n",
       "  white-space: pre-wrap;\n",
       "}\n",
       "</style>\n",
       "<small>shape: (24_386_900, 15)</small><table border=\"1\" class=\"dataframe\"><thead><tr><th>User</th><th>Card</th><th>Year</th><th>Month</th><th>Day</th><th>Time</th><th>Amount</th><th>Use Chip</th><th>Merchant Name</th><th>Merchant City</th><th>Merchant State</th><th>Zip</th><th>MCC</th><th>Errors?</th><th>Is Fraud?</th></tr><tr><td>i64</td><td>i64</td><td>i64</td><td>i64</td><td>i64</td><td>str</td><td>str</td><td>str</td><td>i64</td><td>str</td><td>str</td><td>f64</td><td>i64</td><td>str</td><td>str</td></tr></thead><tbody><tr><td>0</td><td>0</td><td>2002</td><td>9</td><td>1</td><td>&quot;06:21&quot;</td><td>&quot;$134.09&quot;</td><td>&quot;Swipe Transact…</td><td>3527213246127876953</td><td>&quot;La Verne&quot;</td><td>&quot;CA&quot;</td><td>91750.0</td><td>5300</td><td>null</td><td>&quot;No&quot;</td></tr><tr><td>0</td><td>0</td><td>2002</td><td>9</td><td>1</td><td>&quot;06:42&quot;</td><td>&quot;$38.48&quot;</td><td>&quot;Swipe Transact…</td><td>-727612092139916043</td><td>&quot;Monterey Park&quot;</td><td>&quot;CA&quot;</td><td>91754.0</td><td>5411</td><td>null</td><td>&quot;No&quot;</td></tr><tr><td>0</td><td>0</td><td>2002</td><td>9</td><td>2</td><td>&quot;06:22&quot;</td><td>&quot;$120.34&quot;</td><td>&quot;Swipe Transact…</td><td>-727612092139916043</td><td>&quot;Monterey Park&quot;</td><td>&quot;CA&quot;</td><td>91754.0</td><td>5411</td><td>null</td><td>&quot;No&quot;</td></tr><tr><td>0</td><td>0</td><td>2002</td><td>9</td><td>2</td><td>&quot;17:45&quot;</td><td>&quot;$128.95&quot;</td><td>&quot;Swipe Transact…</td><td>3414527459579106770</td><td>&quot;Monterey Park&quot;</td><td>&quot;CA&quot;</td><td>91754.0</td><td>5651</td><td>null</td><td>&quot;No&quot;</td></tr><tr><td>0</td><td>0</td><td>2002</td><td>9</td><td>3</td><td>&quot;06:23&quot;</td><td>&quot;$104.71&quot;</td><td>&quot;Swipe Transact…</td><td>5817218446178736267</td><td>&quot;La Verne&quot;</td><td>&quot;CA&quot;</td><td>91750.0</td><td>5912</td><td>null</td><td>&quot;No&quot;</td></tr><tr><td>0</td><td>0</td><td>2002</td><td>9</td><td>3</td><td>&quot;13:53&quot;</td><td>&quot;$86.19&quot;</td><td>&quot;Swipe Transact…</td><td>-7146670748125200898</td><td>&quot;Monterey Park&quot;</td><td>&quot;CA&quot;</td><td>91755.0</td><td>5970</td><td>null</td><td>&quot;No&quot;</td></tr><tr><td>0</td><td>0</td><td>2002</td><td>9</td><td>4</td><td>&quot;05:51&quot;</td><td>&quot;$93.84&quot;</td><td>&quot;Swipe Transact…</td><td>-727612092139916043</td><td>&quot;Monterey Park&quot;</td><td>&quot;CA&quot;</td><td>91754.0</td><td>5411</td><td>null</td><td>&quot;No&quot;</td></tr><tr><td>0</td><td>0</td><td>2002</td><td>9</td><td>4</td><td>&quot;06:09&quot;</td><td>&quot;$123.50&quot;</td><td>&quot;Swipe Transact…</td><td>-727612092139916043</td><td>&quot;Monterey Park&quot;</td><td>&quot;CA&quot;</td><td>91754.0</td><td>5411</td><td>null</td><td>&quot;No&quot;</td></tr><tr><td>0</td><td>0</td><td>2002</td><td>9</td><td>5</td><td>&quot;06:14&quot;</td><td>&quot;$61.72&quot;</td><td>&quot;Swipe Transact…</td><td>-727612092139916043</td><td>&quot;Monterey Park&quot;</td><td>&quot;CA&quot;</td><td>91754.0</td><td>5411</td><td>null</td><td>&quot;No&quot;</td></tr><tr><td>0</td><td>0</td><td>2002</td><td>9</td><td>5</td><td>&quot;09:35&quot;</td><td>&quot;$57.10&quot;</td><td>&quot;Swipe Transact…</td><td>4055257078481058705</td><td>&quot;La Verne&quot;</td><td>&quot;CA&quot;</td><td>91750.0</td><td>7538</td><td>null</td><td>&quot;No&quot;</td></tr><tr><td>0</td><td>0</td><td>2002</td><td>9</td><td>5</td><td>&quot;20:18&quot;</td><td>&quot;$76.07&quot;</td><td>&quot;Swipe Transact…</td><td>-4500542936415012428</td><td>&quot;La Verne&quot;</td><td>&quot;CA&quot;</td><td>91750.0</td><td>5814</td><td>null</td><td>&quot;No&quot;</td></tr><tr><td>0</td><td>0</td><td>2002</td><td>9</td><td>5</td><td>&quot;20:41&quot;</td><td>&quot;$53.91&quot;</td><td>&quot;Online Transac…</td><td>-9092677072201095172</td><td>&quot;ONLINE&quot;</td><td>null</td><td>null</td><td>4900</td><td>null</td><td>&quot;No&quot;</td></tr><tr><td>&hellip;</td><td>&hellip;</td><td>&hellip;</td><td>&hellip;</td><td>&hellip;</td><td>&hellip;</td><td>&hellip;</td><td>&hellip;</td><td>&hellip;</td><td>&hellip;</td><td>&hellip;</td><td>&hellip;</td><td>&hellip;</td><td>&hellip;</td><td>&hellip;</td></tr><tr><td>1999</td><td>1</td><td>2020</td><td>2</td><td>26</td><td>&quot;20:18&quot;</td><td>&quot;$44.54&quot;</td><td>&quot;Chip Transacti…</td><td>2500998799892805156</td><td>&quot;Merrimack&quot;</td><td>&quot;NH&quot;</td><td>3054.0</td><td>4121</td><td>null</td><td>&quot;No&quot;</td></tr><tr><td>1999</td><td>1</td><td>2020</td><td>2</td><td>27</td><td>&quot;07:47&quot;</td><td>&quot;$47.18&quot;</td><td>&quot;Online Transac…</td><td>-5841929396161652653</td><td>&quot;ONLINE&quot;</td><td>null</td><td>null</td><td>4121</td><td>null</td><td>&quot;No&quot;</td></tr><tr><td>1999</td><td>1</td><td>2020</td><td>2</td><td>27</td><td>&quot;09:31&quot;</td><td>&quot;$120.00&quot;</td><td>&quot;Chip Transacti…</td><td>-4282466774399734331</td><td>&quot;Berlin&quot;</td><td>&quot;NH&quot;</td><td>3570.0</td><td>4829</td><td>null</td><td>&quot;No&quot;</td></tr><tr><td>1999</td><td>1</td><td>2020</td><td>2</td><td>27</td><td>&quot;11:36&quot;</td><td>&quot;$12.91&quot;</td><td>&quot;Chip Transacti…</td><td>3414527459579106770</td><td>&quot;Nashua&quot;</td><td>&quot;NH&quot;</td><td>3064.0</td><td>5651</td><td>null</td><td>&quot;No&quot;</td></tr><tr><td>1999</td><td>1</td><td>2020</td><td>2</td><td>27</td><td>&quot;20:18&quot;</td><td>&quot;$15.52&quot;</td><td>&quot;Chip Transacti…</td><td>97032797689821735</td><td>&quot;Merrimack&quot;</td><td>&quot;NH&quot;</td><td>3054.0</td><td>5411</td><td>null</td><td>&quot;No&quot;</td></tr><tr><td>1999</td><td>1</td><td>2020</td><td>2</td><td>27</td><td>&quot;20:29&quot;</td><td>&quot;$56.67&quot;</td><td>&quot;Chip Transacti…</td><td>2500998799892805156</td><td>&quot;Merrimack&quot;</td><td>&quot;NH&quot;</td><td>3054.0</td><td>4121</td><td>null</td><td>&quot;No&quot;</td></tr><tr><td>1999</td><td>1</td><td>2020</td><td>2</td><td>27</td><td>&quot;22:18&quot;</td><td>&quot;$63.43&quot;</td><td>&quot;Chip Transacti…</td><td>-5162038175624867091</td><td>&quot;Merrimack&quot;</td><td>&quot;NH&quot;</td><td>3054.0</td><td>5541</td><td>null</td><td>&quot;No&quot;</td></tr><tr><td>1999</td><td>1</td><td>2020</td><td>2</td><td>27</td><td>&quot;22:23&quot;</td><td>&quot;$-54.00&quot;</td><td>&quot;Chip Transacti…</td><td>-5162038175624867091</td><td>&quot;Merrimack&quot;</td><td>&quot;NH&quot;</td><td>3054.0</td><td>5541</td><td>null</td><td>&quot;No&quot;</td></tr><tr><td>1999</td><td>1</td><td>2020</td><td>2</td><td>27</td><td>&quot;22:24&quot;</td><td>&quot;$54.00&quot;</td><td>&quot;Chip Transacti…</td><td>-5162038175624867091</td><td>&quot;Merrimack&quot;</td><td>&quot;NH&quot;</td><td>3054.0</td><td>5541</td><td>null</td><td>&quot;No&quot;</td></tr><tr><td>1999</td><td>1</td><td>2020</td><td>2</td><td>28</td><td>&quot;07:43&quot;</td><td>&quot;$59.15&quot;</td><td>&quot;Chip Transacti…</td><td>2500998799892805156</td><td>&quot;Merrimack&quot;</td><td>&quot;NH&quot;</td><td>3054.0</td><td>4121</td><td>null</td><td>&quot;No&quot;</td></tr><tr><td>1999</td><td>1</td><td>2020</td><td>2</td><td>28</td><td>&quot;20:10&quot;</td><td>&quot;$43.12&quot;</td><td>&quot;Chip Transacti…</td><td>2500998799892805156</td><td>&quot;Merrimack&quot;</td><td>&quot;NH&quot;</td><td>3054.0</td><td>4121</td><td>null</td><td>&quot;No&quot;</td></tr><tr><td>1999</td><td>1</td><td>2020</td><td>2</td><td>28</td><td>&quot;23:10&quot;</td><td>&quot;$45.13&quot;</td><td>&quot;Chip Transacti…</td><td>4751695835751691036</td><td>&quot;Merrimack&quot;</td><td>&quot;NH&quot;</td><td>3054.0</td><td>5814</td><td>null</td><td>&quot;No&quot;</td></tr></tbody></table></div>"
      ],
      "text/plain": [
       "shape: (24_386_900, 15)\n",
       "┌─────┬─────┬─────┬─────┬─────┬─────┬─────┬─────┬─────┬─────┬─────┬────────┬──────┬────────┬───────┐\n",
       "│ Use ┆ Car ┆ Yea ┆ Mon ┆ Day ┆ Tim ┆ Amo ┆ Use ┆ Mer ┆ Mer ┆ Mer ┆ Zip    ┆ MCC  ┆ Errors ┆ Is    │\n",
       "│ r   ┆ d   ┆ r   ┆ th  ┆ --- ┆ e   ┆ unt ┆ Chi ┆ cha ┆ cha ┆ cha ┆ ---    ┆ ---  ┆ ?      ┆ Fraud │\n",
       "│ --- ┆ --- ┆ --- ┆ --- ┆ i64 ┆ --- ┆ --- ┆ p   ┆ nt  ┆ nt  ┆ nt  ┆ f64    ┆ i64  ┆ ---    ┆ ?     │\n",
       "│ i64 ┆ i64 ┆ i64 ┆ i64 ┆     ┆ str ┆ str ┆ --- ┆ Nam ┆ Cit ┆ Sta ┆        ┆      ┆ str    ┆ ---   │\n",
       "│     ┆     ┆     ┆     ┆     ┆     ┆     ┆ str ┆ e   ┆ y   ┆ te  ┆        ┆      ┆        ┆ str   │\n",
       "│     ┆     ┆     ┆     ┆     ┆     ┆     ┆     ┆ --- ┆ --- ┆ --- ┆        ┆      ┆        ┆       │\n",
       "│     ┆     ┆     ┆     ┆     ┆     ┆     ┆     ┆ i64 ┆ str ┆ str ┆        ┆      ┆        ┆       │\n",
       "╞═════╪═════╪═════╪═════╪═════╪═════╪═════╪═════╪═════╪═════╪═════╪════════╪══════╪════════╪═══════╡\n",
       "│ 0   ┆ 0   ┆ 200 ┆ 9   ┆ 1   ┆ 06: ┆ $13 ┆ Swi ┆ 352 ┆ La  ┆ CA  ┆ 91750. ┆ 5300 ┆ null   ┆ No    │\n",
       "│     ┆     ┆ 2   ┆     ┆     ┆ 21  ┆ 4.0 ┆ pe  ┆ 721 ┆ Ver ┆     ┆ 0      ┆      ┆        ┆       │\n",
       "│     ┆     ┆     ┆     ┆     ┆     ┆ 9   ┆ Tra ┆ 324 ┆ ne  ┆     ┆        ┆      ┆        ┆       │\n",
       "│     ┆     ┆     ┆     ┆     ┆     ┆     ┆ nsa ┆ 612 ┆     ┆     ┆        ┆      ┆        ┆       │\n",
       "│     ┆     ┆     ┆     ┆     ┆     ┆     ┆ cti ┆ 787 ┆     ┆     ┆        ┆      ┆        ┆       │\n",
       "│     ┆     ┆     ┆     ┆     ┆     ┆     ┆ on  ┆ 695 ┆     ┆     ┆        ┆      ┆        ┆       │\n",
       "│     ┆     ┆     ┆     ┆     ┆     ┆     ┆     ┆ 3   ┆     ┆     ┆        ┆      ┆        ┆       │\n",
       "│ 0   ┆ 0   ┆ 200 ┆ 9   ┆ 1   ┆ 06: ┆ $38 ┆ Swi ┆ -72 ┆ Mon ┆ CA  ┆ 91754. ┆ 5411 ┆ null   ┆ No    │\n",
       "│     ┆     ┆ 2   ┆     ┆     ┆ 42  ┆ .48 ┆ pe  ┆ 761 ┆ ter ┆     ┆ 0      ┆      ┆        ┆       │\n",
       "│     ┆     ┆     ┆     ┆     ┆     ┆     ┆ Tra ┆ 209 ┆ ey  ┆     ┆        ┆      ┆        ┆       │\n",
       "│     ┆     ┆     ┆     ┆     ┆     ┆     ┆ nsa ┆ 213 ┆ Par ┆     ┆        ┆      ┆        ┆       │\n",
       "│     ┆     ┆     ┆     ┆     ┆     ┆     ┆ cti ┆ 991 ┆ k   ┆     ┆        ┆      ┆        ┆       │\n",
       "│     ┆     ┆     ┆     ┆     ┆     ┆     ┆ on  ┆ 604 ┆     ┆     ┆        ┆      ┆        ┆       │\n",
       "│     ┆     ┆     ┆     ┆     ┆     ┆     ┆     ┆ 3   ┆     ┆     ┆        ┆      ┆        ┆       │\n",
       "│ 0   ┆ 0   ┆ 200 ┆ 9   ┆ 2   ┆ 06: ┆ $12 ┆ Swi ┆ -72 ┆ Mon ┆ CA  ┆ 91754. ┆ 5411 ┆ null   ┆ No    │\n",
       "│     ┆     ┆ 2   ┆     ┆     ┆ 22  ┆ 0.3 ┆ pe  ┆ 761 ┆ ter ┆     ┆ 0      ┆      ┆        ┆       │\n",
       "│     ┆     ┆     ┆     ┆     ┆     ┆ 4   ┆ Tra ┆ 209 ┆ ey  ┆     ┆        ┆      ┆        ┆       │\n",
       "│     ┆     ┆     ┆     ┆     ┆     ┆     ┆ nsa ┆ 213 ┆ Par ┆     ┆        ┆      ┆        ┆       │\n",
       "│     ┆     ┆     ┆     ┆     ┆     ┆     ┆ cti ┆ 991 ┆ k   ┆     ┆        ┆      ┆        ┆       │\n",
       "│     ┆     ┆     ┆     ┆     ┆     ┆     ┆ on  ┆ 604 ┆     ┆     ┆        ┆      ┆        ┆       │\n",
       "│     ┆     ┆     ┆     ┆     ┆     ┆     ┆     ┆ 3   ┆     ┆     ┆        ┆      ┆        ┆       │\n",
       "│ 0   ┆ 0   ┆ 200 ┆ 9   ┆ 2   ┆ 17: ┆ $12 ┆ Swi ┆ 341 ┆ Mon ┆ CA  ┆ 91754. ┆ 5651 ┆ null   ┆ No    │\n",
       "│     ┆     ┆ 2   ┆     ┆     ┆ 45  ┆ 8.9 ┆ pe  ┆ 452 ┆ ter ┆     ┆ 0      ┆      ┆        ┆       │\n",
       "│     ┆     ┆     ┆     ┆     ┆     ┆ 5   ┆ Tra ┆ 745 ┆ ey  ┆     ┆        ┆      ┆        ┆       │\n",
       "│     ┆     ┆     ┆     ┆     ┆     ┆     ┆ nsa ┆ 957 ┆ Par ┆     ┆        ┆      ┆        ┆       │\n",
       "│     ┆     ┆     ┆     ┆     ┆     ┆     ┆ cti ┆ 910 ┆ k   ┆     ┆        ┆      ┆        ┆       │\n",
       "│     ┆     ┆     ┆     ┆     ┆     ┆     ┆ on  ┆ 677 ┆     ┆     ┆        ┆      ┆        ┆       │\n",
       "│     ┆     ┆     ┆     ┆     ┆     ┆     ┆     ┆ 0   ┆     ┆     ┆        ┆      ┆        ┆       │\n",
       "│ …   ┆ …   ┆ …   ┆ …   ┆ …   ┆ …   ┆ …   ┆ …   ┆ …   ┆ …   ┆ …   ┆ …      ┆ …    ┆ …      ┆ …     │\n",
       "│ 199 ┆ 1   ┆ 202 ┆ 2   ┆ 27  ┆ 22: ┆ $54 ┆ Chi ┆ -51 ┆ Mer ┆ NH  ┆ 3054.0 ┆ 5541 ┆ null   ┆ No    │\n",
       "│ 9   ┆     ┆ 0   ┆     ┆     ┆ 24  ┆ .00 ┆ p   ┆ 620 ┆ rim ┆     ┆        ┆      ┆        ┆       │\n",
       "│     ┆     ┆     ┆     ┆     ┆     ┆     ┆ Tra ┆ 381 ┆ ack ┆     ┆        ┆      ┆        ┆       │\n",
       "│     ┆     ┆     ┆     ┆     ┆     ┆     ┆ nsa ┆ 756 ┆     ┆     ┆        ┆      ┆        ┆       │\n",
       "│     ┆     ┆     ┆     ┆     ┆     ┆     ┆ cti ┆ 248 ┆     ┆     ┆        ┆      ┆        ┆       │\n",
       "│     ┆     ┆     ┆     ┆     ┆     ┆     ┆ on  ┆ 670 ┆     ┆     ┆        ┆      ┆        ┆       │\n",
       "│     ┆     ┆     ┆     ┆     ┆     ┆     ┆     ┆ 91  ┆     ┆     ┆        ┆      ┆        ┆       │\n",
       "│ 199 ┆ 1   ┆ 202 ┆ 2   ┆ 28  ┆ 07: ┆ $59 ┆ Chi ┆ 250 ┆ Mer ┆ NH  ┆ 3054.0 ┆ 4121 ┆ null   ┆ No    │\n",
       "│ 9   ┆     ┆ 0   ┆     ┆     ┆ 43  ┆ .15 ┆ p   ┆ 099 ┆ rim ┆     ┆        ┆      ┆        ┆       │\n",
       "│     ┆     ┆     ┆     ┆     ┆     ┆     ┆ Tra ┆ 879 ┆ ack ┆     ┆        ┆      ┆        ┆       │\n",
       "│     ┆     ┆     ┆     ┆     ┆     ┆     ┆ nsa ┆ 989 ┆     ┆     ┆        ┆      ┆        ┆       │\n",
       "│     ┆     ┆     ┆     ┆     ┆     ┆     ┆ cti ┆ 280 ┆     ┆     ┆        ┆      ┆        ┆       │\n",
       "│     ┆     ┆     ┆     ┆     ┆     ┆     ┆ on  ┆ 515 ┆     ┆     ┆        ┆      ┆        ┆       │\n",
       "│     ┆     ┆     ┆     ┆     ┆     ┆     ┆     ┆ 6   ┆     ┆     ┆        ┆      ┆        ┆       │\n",
       "│ 199 ┆ 1   ┆ 202 ┆ 2   ┆ 28  ┆ 20: ┆ $43 ┆ Chi ┆ 250 ┆ Mer ┆ NH  ┆ 3054.0 ┆ 4121 ┆ null   ┆ No    │\n",
       "│ 9   ┆     ┆ 0   ┆     ┆     ┆ 10  ┆ .12 ┆ p   ┆ 099 ┆ rim ┆     ┆        ┆      ┆        ┆       │\n",
       "│     ┆     ┆     ┆     ┆     ┆     ┆     ┆ Tra ┆ 879 ┆ ack ┆     ┆        ┆      ┆        ┆       │\n",
       "│     ┆     ┆     ┆     ┆     ┆     ┆     ┆ nsa ┆ 989 ┆     ┆     ┆        ┆      ┆        ┆       │\n",
       "│     ┆     ┆     ┆     ┆     ┆     ┆     ┆ cti ┆ 280 ┆     ┆     ┆        ┆      ┆        ┆       │\n",
       "│     ┆     ┆     ┆     ┆     ┆     ┆     ┆ on  ┆ 515 ┆     ┆     ┆        ┆      ┆        ┆       │\n",
       "│     ┆     ┆     ┆     ┆     ┆     ┆     ┆     ┆ 6   ┆     ┆     ┆        ┆      ┆        ┆       │\n",
       "│ 199 ┆ 1   ┆ 202 ┆ 2   ┆ 28  ┆ 23: ┆ $45 ┆ Chi ┆ 475 ┆ Mer ┆ NH  ┆ 3054.0 ┆ 5814 ┆ null   ┆ No    │\n",
       "│ 9   ┆     ┆ 0   ┆     ┆     ┆ 10  ┆ .13 ┆ p   ┆ 169 ┆ rim ┆     ┆        ┆      ┆        ┆       │\n",
       "│     ┆     ┆     ┆     ┆     ┆     ┆     ┆ Tra ┆ 583 ┆ ack ┆     ┆        ┆      ┆        ┆       │\n",
       "│     ┆     ┆     ┆     ┆     ┆     ┆     ┆ nsa ┆ 575 ┆     ┆     ┆        ┆      ┆        ┆       │\n",
       "│     ┆     ┆     ┆     ┆     ┆     ┆     ┆ cti ┆ 169 ┆     ┆     ┆        ┆      ┆        ┆       │\n",
       "│     ┆     ┆     ┆     ┆     ┆     ┆     ┆ on  ┆ 103 ┆     ┆     ┆        ┆      ┆        ┆       │\n",
       "│     ┆     ┆     ┆     ┆     ┆     ┆     ┆     ┆ 6   ┆     ┆     ┆        ┆      ┆        ┆       │\n",
       "└─────┴─────┴─────┴─────┴─────┴─────┴─────┴─────┴─────┴─────┴─────┴────────┴──────┴────────┴───────┘"
      ]
     },
     "execution_count": 2,
     "metadata": {},
     "output_type": "execute_result"
    }
   ],
   "source": [
    "# load the historical transactions\n",
    "transactions_df = pl.read_csv(\"../raw-datasets/credit_card_transactions-ibm_v2.csv\")\n",
    "\n",
    "# display it\n",
    "transactions_df"
   ]
  },
  {
   "cell_type": "markdown",
   "metadata": {},
   "source": [
    "Overview: \n",
    "With approximately 24.4 million transactions, this dataset offers a comprehensive set of data points. The upcoming steps involve thorough data cleaning and transformation to shape the data for optimal use in machine learning model training.\n",
    "\n",
    "We'll conduct an initial exploration to get a sense of the dataset's quality, identify any missing values, and understand the overall data distribution."
   ]
  },
  {
   "cell_type": "code",
   "execution_count": 3,
   "metadata": {},
   "outputs": [
    {
     "name": "stdout",
     "output_type": "stream",
     "text": [
      "Percentage of Missing Values:\n"
     ]
    },
    {
     "data": {
      "text/html": [
       "<div><style>\n",
       ".dataframe > thead > tr,\n",
       ".dataframe > tbody > tr {\n",
       "  text-align: right;\n",
       "  white-space: pre-wrap;\n",
       "}\n",
       "</style>\n",
       "<small>shape: (1, 15)</small><table border=\"1\" class=\"dataframe\"><thead><tr><th>User</th><th>Card</th><th>Year</th><th>Month</th><th>Day</th><th>Time</th><th>Amount</th><th>Use Chip</th><th>Merchant Name</th><th>Merchant City</th><th>Merchant State</th><th>Zip</th><th>MCC</th><th>Errors?</th><th>Is Fraud?</th></tr><tr><td>f64</td><td>f64</td><td>f64</td><td>f64</td><td>f64</td><td>f64</td><td>f64</td><td>f64</td><td>f64</td><td>f64</td><td>f64</td><td>f64</td><td>f64</td><td>f64</td><td>f64</td></tr></thead><tbody><tr><td>0.0</td><td>0.0</td><td>0.0</td><td>0.0</td><td>0.0</td><td>0.0</td><td>0.0</td><td>0.0</td><td>0.0</td><td>0.0</td><td>11.156896</td><td>11.801972</td><td>0.0</td><td>98.407215</td><td>0.0</td></tr></tbody></table></div>"
      ],
      "text/plain": [
       "shape: (1, 15)\n",
       "┌─────┬─────┬─────┬─────┬─────┬─────┬─────┬─────┬─────┬─────┬────────┬───────┬─────┬───────┬───────┐\n",
       "│ Use ┆ Car ┆ Yea ┆ Mon ┆ Day ┆ Tim ┆ Amo ┆ Use ┆ Mer ┆ Mer ┆ Mercha ┆ Zip   ┆ MCC ┆ Error ┆ Is    │\n",
       "│ r   ┆ d   ┆ r   ┆ th  ┆ --- ┆ e   ┆ unt ┆ Chi ┆ cha ┆ cha ┆ nt     ┆ ---   ┆ --- ┆ s?    ┆ Fraud │\n",
       "│ --- ┆ --- ┆ --- ┆ --- ┆ f64 ┆ --- ┆ --- ┆ p   ┆ nt  ┆ nt  ┆ State  ┆ f64   ┆ f64 ┆ ---   ┆ ?     │\n",
       "│ f64 ┆ f64 ┆ f64 ┆ f64 ┆     ┆ f64 ┆ f64 ┆ --- ┆ Nam ┆ Cit ┆ ---    ┆       ┆     ┆ f64   ┆ ---   │\n",
       "│     ┆     ┆     ┆     ┆     ┆     ┆     ┆ f64 ┆ e   ┆ y   ┆ f64    ┆       ┆     ┆       ┆ f64   │\n",
       "│     ┆     ┆     ┆     ┆     ┆     ┆     ┆     ┆ --- ┆ --- ┆        ┆       ┆     ┆       ┆       │\n",
       "│     ┆     ┆     ┆     ┆     ┆     ┆     ┆     ┆ f64 ┆ f64 ┆        ┆       ┆     ┆       ┆       │\n",
       "╞═════╪═════╪═════╪═════╪═════╪═════╪═════╪═════╪═════╪═════╪════════╪═══════╪═════╪═══════╪═══════╡\n",
       "│ 0.0 ┆ 0.0 ┆ 0.0 ┆ 0.0 ┆ 0.0 ┆ 0.0 ┆ 0.0 ┆ 0.0 ┆ 0.0 ┆ 0.0 ┆ 11.156 ┆ 11.80 ┆ 0.0 ┆ 98.40 ┆ 0.0   │\n",
       "│     ┆     ┆     ┆     ┆     ┆     ┆     ┆     ┆     ┆     ┆ 896    ┆ 1972  ┆     ┆ 7215  ┆       │\n",
       "└─────┴─────┴─────┴─────┴─────┴─────┴─────┴─────┴─────┴─────┴────────┴───────┴─────┴───────┴───────┘"
      ]
     },
     "execution_count": 3,
     "metadata": {},
     "output_type": "execute_result"
    }
   ],
   "source": [
    "# calculate of missing values in each column\n",
    "missing_values = transactions_df.select([pl.col(column).is_null().sum().alias(column) for column in transactions_df.columns])\n",
    "print(\"Percentage of Missing Values:\")\n",
    "missing_values / len(transactions_df) * 100"
   ]
  },
  {
   "cell_type": "markdown",
   "metadata": {},
   "source": [
    "We observed a significant number of missing values in the `Errors?` column. It seems likely that these null values indicate transactions without any errors, implying successful transactions."
   ]
  },
  {
   "cell_type": "code",
   "execution_count": 4,
   "metadata": {},
   "outputs": [
    {
     "name": "stdout",
     "output_type": "stream",
     "text": [
      "`Is Fraud?` proportion: \n",
      " shape: (2, 3)\n",
      "┌───────────┬──────────┬────────────┐\n",
      "│ Is Fraud? ┆ count    ┆ percentage │\n",
      "│ ---       ┆ ---      ┆ ---        │\n",
      "│ str       ┆ u32      ┆ f64        │\n",
      "╞═══════════╪══════════╪════════════╡\n",
      "│ No        ┆ 24357143 ┆ 99.87798   │\n",
      "│ Yes       ┆ 29757    ┆ 0.12202    │\n",
      "└───────────┴──────────┴────────────┘\n"
     ]
    }
   ],
   "source": [
    "print(\"`Is Fraud?` proportion: \\n\",\n",
    "      transactions_df.group_by(\"Is Fraud?\")\n",
    "      .agg(pl.count().alias(\"count\"))\n",
    "      .with_columns([\n",
    "          (pl.col(\"count\") / len(transactions_df) * 100).alias(\"percentage\")\n",
    "          ])\n",
    "      .sort(\"count\", descending=True))"
   ]
  },
  {
   "cell_type": "markdown",
   "metadata": {},
   "source": [
    "Our target column, `Is Fraud?`, shows a distribution of 99.87% (24,357,143 transactions) as non-fraudulent and only 0.13% (29,757 transactions) as fraudulent. This distribution aligns well with real-world scenarios where fraudulent transactions are relatively rare."
   ]
  },
  {
   "cell_type": "code",
   "execution_count": 5,
   "metadata": {},
   "outputs": [
    {
     "name": "stdout",
     "output_type": "stream",
     "text": [
      "`Use Chip` proportion: \n",
      " shape: (3, 3)\n",
      "┌────────────────────┬──────────┬────────────┐\n",
      "│ Use Chip           ┆ count    ┆ percentage │\n",
      "│ ---                ┆ ---      ┆ ---        │\n",
      "│ str                ┆ u32      ┆ f64        │\n",
      "╞════════════════════╪══════════╪════════════╡\n",
      "│ Swipe Transaction  ┆ 15386082 ┆ 63.091586  │\n",
      "│ Chip Transaction   ┆ 6287598  ┆ 25.782687  │\n",
      "│ Online Transaction ┆ 2713220  ┆ 11.125727  │\n",
      "└────────────────────┴──────────┴────────────┘\n"
     ]
    }
   ],
   "source": [
    "print(\"`Use Chip` proportion: \\n\",\n",
    "      transactions_df.group_by(\"Use Chip\")\n",
    "      .agg(pl.count().alias(\"count\"))\n",
    "      .with_columns([\n",
    "          (pl.col(\"count\") / len(transactions_df) * 100).alias(\"percentage\")\n",
    "          ])\n",
    "      .sort(\"count\", descending=True))"
   ]
  },
  {
   "cell_type": "markdown",
   "metadata": {},
   "source": [
    "The `Use Chip` column represents the transaction method used by the customer. Our analysis revealed that Swipe Transactions account for 63.09%, Chip Transactions for 25.79%, and Online Transactions for 11.12%."
   ]
  },
  {
   "cell_type": "code",
   "execution_count": 6,
   "metadata": {},
   "outputs": [
    {
     "name": "stdout",
     "output_type": "stream",
     "text": [
      "`Merchant State` proportion: \n",
      " shape: (224, 3)\n",
      "┌────────────────┬─────────┬────────────┐\n",
      "│ Merchant State ┆ count   ┆ percentage │\n",
      "│ ---            ┆ ---     ┆ ---        │\n",
      "│ str            ┆ u32     ┆ f64        │\n",
      "╞════════════════╪═════════╪════════════╡\n",
      "│ null           ┆ 2720821 ┆ 11.156896  │\n",
      "│ CA             ┆ 2591830 ┆ 10.62796   │\n",
      "│ TX             ┆ 1793298 ┆ 7.35353    │\n",
      "│ FL             ┆ 1458699 ┆ 5.981486   │\n",
      "│ …              ┆ …       ┆ …          │\n",
      "│ Tonga          ┆ 2       ┆ 0.000008   │\n",
      "│ Botswana       ┆ 1       ┆ 0.000004   │\n",
      "│ Kiribati       ┆ 1       ┆ 0.000004   │\n",
      "│ Paraguay       ┆ 1       ┆ 0.000004   │\n",
      "└────────────────┴─────────┴────────────┘\n"
     ]
    }
   ],
   "source": [
    "print(\"`Merchant State` proportion: \\n\",\n",
    "      transactions_df.group_by(\"Merchant State\")\n",
    "      .agg(pl.count().alias(\"count\"))\n",
    "      .with_columns([\n",
    "          (pl.col(\"count\") / len(transactions_df) * 100).alias(\"percentage\")\n",
    "          ])\n",
    "      .sort(\"count\", descending=True))"
   ]
  },
  {
   "cell_type": "markdown",
   "metadata": {},
   "source": [
    "In the `Merchant State` column, we noticed that null values comprise the largest proportion (11.15%), followed by California (10.62%) and Texas (7.3%). With approximately 224 unique values, it's clear that transactions occur not only in the USA but also in other countries, as indicated by entries like Paraguay, Togo, etc."
   ]
  },
  {
   "cell_type": "code",
   "execution_count": 7,
   "metadata": {},
   "outputs": [
    {
     "name": "stdout",
     "output_type": "stream",
     "text": [
      "`Merchant City` proportion: \n",
      " shape: (13_429, 3)\n",
      "┌───────────────┬─────────┬────────────┐\n",
      "│ Merchant City ┆ count   ┆ percentage │\n",
      "│ ---           ┆ ---     ┆ ---        │\n",
      "│ str           ┆ u32     ┆ f64        │\n",
      "╞═══════════════╪═════════╪════════════╡\n",
      "│ ONLINE        ┆ 2720821 ┆ 11.156896  │\n",
      "│ Houston       ┆ 246036  ┆ 1.008886   │\n",
      "│ Los Angeles   ┆ 180496  ┆ 0.740135   │\n",
      "│ Miami         ┆ 178653  ┆ 0.732578   │\n",
      "│ …             ┆ …       ┆ …          │\n",
      "│ Boyne Falls   ┆ 1       ┆ 0.000004   │\n",
      "│ Weyerhaeuser  ┆ 1       ┆ 0.000004   │\n",
      "│ Poyen         ┆ 1       ┆ 0.000004   │\n",
      "│ Long Bottom   ┆ 1       ┆ 0.000004   │\n",
      "└───────────────┴─────────┴────────────┘\n"
     ]
    }
   ],
   "source": [
    "print(\"`Merchant City` proportion: \\n\",\n",
    "      transactions_df.group_by(\"Merchant City\")\n",
    "      .agg(pl.count().alias(\"count\"))\n",
    "      .with_columns([\n",
    "          (pl.col(\"count\") / len(transactions_df) * 100).alias(\"percentage\")\n",
    "          ])\n",
    "      .sort(\"count\", descending=True))"
   ]
  },
  {
   "cell_type": "markdown",
   "metadata": {},
   "source": [
    "The `Merchant City` column also follows a similar pattern, with 'Online' being the most common category at 11.15%. Other frequent locations include U.S. cities such as Houston, Los Angeles, and Miami. The presence of 13,429 unique city names suggests that transactions span globally, not just within the USA."
   ]
  },
  {
   "cell_type": "code",
   "execution_count": 8,
   "metadata": {},
   "outputs": [
    {
     "name": "stdout",
     "output_type": "stream",
     "text": [
      "`Errors?` proportion: \n",
      " shape: (24, 3)\n",
      "┌───────────────────────────────────┬──────────┬────────────┐\n",
      "│ Errors?                           ┆ count    ┆ percentage │\n",
      "│ ---                               ┆ ---      ┆ ---        │\n",
      "│ str                               ┆ u32      ┆ f64        │\n",
      "╞═══════════════════════════════════╪══════════╪════════════╡\n",
      "│ null                              ┆ 23998469 ┆ 98.407215  │\n",
      "│ Insufficient Balance              ┆ 242783   ┆ 0.995547   │\n",
      "│ Bad PIN                           ┆ 58918    ┆ 0.241597   │\n",
      "│ Technical Glitch                  ┆ 48157    ┆ 0.197471   │\n",
      "│ …                                 ┆ …        ┆ …          │\n",
      "│ Bad Zipcode,Insufficient Balance  ┆ 13       ┆ 0.000053   │\n",
      "│ Bad Zipcode,Technical Glitch      ┆ 7        ┆ 0.000029   │\n",
      "│ Bad Card Number,Bad Expiration,I… ┆ 2        ┆ 0.000008   │\n",
      "│ Bad Card Number,Bad Expiration,T… ┆ 1        ┆ 0.000004   │\n",
      "└───────────────────────────────────┴──────────┴────────────┘\n"
     ]
    }
   ],
   "source": [
    "print(\"`Errors?` proportion: \\n\",\n",
    "      transactions_df.group_by(\"Errors?\")\n",
    "      .agg(pl.count().alias(\"count\"))\n",
    "      .with_columns([\n",
    "          (pl.col(\"count\") / len(transactions_df) * 100).alias(\"percentage\")\n",
    "          ])\n",
    "      .sort(\"count\", descending=True))"
   ]
  },
  {
   "cell_type": "markdown",
   "metadata": {},
   "source": [
    "Consistent with earlier observations, the `Errors?` column indicates that 98.40% of transactions have no recorded errors, implying successful transactions. This column also includes other error categories like insufficient balance, bad pin, etc., totaling 24 distinct categories."
   ]
  },
  {
   "cell_type": "code",
   "execution_count": 9,
   "metadata": {},
   "outputs": [
    {
     "name": "stdout",
     "output_type": "stream",
     "text": [
      "Summary statistics: \n"
     ]
    },
    {
     "data": {
      "text/html": [
       "<div><style>\n",
       ".dataframe > thead > tr,\n",
       ".dataframe > tbody > tr {\n",
       "  text-align: right;\n",
       "  white-space: pre-wrap;\n",
       "}\n",
       "</style>\n",
       "<small>shape: (9, 16)</small><table border=\"1\" class=\"dataframe\"><thead><tr><th>describe</th><th>User</th><th>Card</th><th>Year</th><th>Month</th><th>Day</th><th>Time</th><th>Amount</th><th>Use Chip</th><th>Merchant Name</th><th>Merchant City</th><th>Merchant State</th><th>Zip</th><th>MCC</th><th>Errors?</th><th>Is Fraud?</th></tr><tr><td>str</td><td>f64</td><td>f64</td><td>f64</td><td>f64</td><td>f64</td><td>str</td><td>str</td><td>str</td><td>f64</td><td>str</td><td>str</td><td>f64</td><td>f64</td><td>str</td><td>str</td></tr></thead><tbody><tr><td>&quot;count&quot;</td><td>2.43869e7</td><td>2.43869e7</td><td>2.43869e7</td><td>2.43869e7</td><td>2.43869e7</td><td>&quot;24386900&quot;</td><td>&quot;24386900&quot;</td><td>&quot;24386900&quot;</td><td>2.43869e7</td><td>&quot;24386900&quot;</td><td>&quot;21666079&quot;</td><td>2.1508765e7</td><td>2.43869e7</td><td>&quot;388431&quot;</td><td>&quot;24386900&quot;</td></tr><tr><td>&quot;null_count&quot;</td><td>0.0</td><td>0.0</td><td>0.0</td><td>0.0</td><td>0.0</td><td>&quot;0&quot;</td><td>&quot;0&quot;</td><td>&quot;0&quot;</td><td>0.0</td><td>&quot;0&quot;</td><td>&quot;2720821&quot;</td><td>2.878135e6</td><td>0.0</td><td>&quot;23998469&quot;</td><td>&quot;0&quot;</td></tr><tr><td>&quot;mean&quot;</td><td>1001.019335</td><td>1.351366</td><td>2011.95517</td><td>6.525064</td><td>15.718123</td><td>null</td><td>null</td><td>null</td><td>-4.7692e17</td><td>null</td><td>null</td><td>50956.442115</td><td>5561.171253</td><td>null</td><td>null</td></tr><tr><td>&quot;std&quot;</td><td>569.461157</td><td>1.407154</td><td>5.105921</td><td>3.472355</td><td>8.794073</td><td>null</td><td>null</td><td>null</td><td>4.7589e18</td><td>null</td><td>null</td><td>29397.065949</td><td>879.315433</td><td>null</td><td>null</td></tr><tr><td>&quot;min&quot;</td><td>0.0</td><td>0.0</td><td>1991.0</td><td>1.0</td><td>1.0</td><td>&quot;00:00&quot;</td><td>&quot;$-0.00&quot;</td><td>&quot;Chip Transacti…</td><td>-9.2229e18</td><td>&quot;Aaronsburg&quot;</td><td>&quot;AA&quot;</td><td>501.0</td><td>1711.0</td><td>&quot;Bad CVV&quot;</td><td>&quot;No&quot;</td></tr><tr><td>&quot;25%&quot;</td><td>510.0</td><td>0.0</td><td>2008.0</td><td>3.0</td><td>8.0</td><td>null</td><td>null</td><td>null</td><td>-4.5005e18</td><td>null</td><td>null</td><td>28374.0</td><td>5300.0</td><td>null</td><td>null</td></tr><tr><td>&quot;50%&quot;</td><td>1006.0</td><td>1.0</td><td>2013.0</td><td>7.0</td><td>16.0</td><td>null</td><td>null</td><td>null</td><td>-7.9468e17</td><td>null</td><td>null</td><td>46742.0</td><td>5499.0</td><td>null</td><td>null</td></tr><tr><td>&quot;75%&quot;</td><td>1477.0</td><td>2.0</td><td>2016.0</td><td>10.0</td><td>23.0</td><td>null</td><td>null</td><td>null</td><td>3.1895e18</td><td>null</td><td>null</td><td>77564.0</td><td>5812.0</td><td>null</td><td>null</td></tr><tr><td>&quot;max&quot;</td><td>1999.0</td><td>8.0</td><td>2020.0</td><td>12.0</td><td>31.0</td><td>&quot;23:59&quot;</td><td>&quot;$999.97&quot;</td><td>&quot;Swipe Transact…</td><td>9.2233e18</td><td>&quot;Zwolle&quot;</td><td>&quot;Zimbabwe&quot;</td><td>99928.0</td><td>9402.0</td><td>&quot;Technical Glit…</td><td>&quot;Yes&quot;</td></tr></tbody></table></div>"
      ],
      "text/plain": [
       "shape: (9, 16)\n",
       "┌─────┬─────┬─────┬─────┬─────┬─────┬─────┬─────┬─────┬─────┬─────┬─────┬─────┬─────┬─────┬────────┐\n",
       "│ des ┆ Use ┆ Car ┆ Yea ┆ Mon ┆ Day ┆ Tim ┆ Amo ┆ Use ┆ Mer ┆ Mer ┆ Mer ┆ Zip ┆ MCC ┆ Err ┆ Is     │\n",
       "│ cri ┆ r   ┆ d   ┆ r   ┆ th  ┆ --- ┆ e   ┆ unt ┆ Chi ┆ cha ┆ cha ┆ cha ┆ --- ┆ --- ┆ ors ┆ Fraud? │\n",
       "│ be  ┆ --- ┆ --- ┆ --- ┆ --- ┆ f64 ┆ --- ┆ --- ┆ p   ┆ nt  ┆ nt  ┆ nt  ┆ f64 ┆ f64 ┆ ?   ┆ ---    │\n",
       "│ --- ┆ f64 ┆ f64 ┆ f64 ┆ f64 ┆     ┆ str ┆ str ┆ --- ┆ Nam ┆ Cit ┆ Sta ┆     ┆     ┆ --- ┆ str    │\n",
       "│ str ┆     ┆     ┆     ┆     ┆     ┆     ┆     ┆ str ┆ e   ┆ y   ┆ te  ┆     ┆     ┆ str ┆        │\n",
       "│     ┆     ┆     ┆     ┆     ┆     ┆     ┆     ┆     ┆ --- ┆ --- ┆ --- ┆     ┆     ┆     ┆        │\n",
       "│     ┆     ┆     ┆     ┆     ┆     ┆     ┆     ┆     ┆ f64 ┆ str ┆ str ┆     ┆     ┆     ┆        │\n",
       "╞═════╪═════╪═════╪═════╪═════╪═════╪═════╪═════╪═════╪═════╪═════╪═════╪═════╪═════╪═════╪════════╡\n",
       "│ cou ┆ 2.4 ┆ 2.4 ┆ 2.4 ┆ 2.4 ┆ 2.4 ┆ 243 ┆ 243 ┆ 243 ┆ 2.4 ┆ 243 ┆ 216 ┆ 2.1 ┆ 2.4 ┆ 388 ┆ 243869 │\n",
       "│ nt  ┆ 386 ┆ 386 ┆ 386 ┆ 386 ┆ 386 ┆ 869 ┆ 869 ┆ 869 ┆ 386 ┆ 869 ┆ 660 ┆ 508 ┆ 386 ┆ 431 ┆ 00     │\n",
       "│     ┆ 9e7 ┆ 9e7 ┆ 9e7 ┆ 9e7 ┆ 9e7 ┆ 00  ┆ 00  ┆ 00  ┆ 9e7 ┆ 00  ┆ 79  ┆ 765 ┆ 9e7 ┆     ┆        │\n",
       "│     ┆     ┆     ┆     ┆     ┆     ┆     ┆     ┆     ┆     ┆     ┆     ┆ e7  ┆     ┆     ┆        │\n",
       "│ nul ┆ 0.0 ┆ 0.0 ┆ 0.0 ┆ 0.0 ┆ 0.0 ┆ 0   ┆ 0   ┆ 0   ┆ 0.0 ┆ 0   ┆ 272 ┆ 2.8 ┆ 0.0 ┆ 239 ┆ 0      │\n",
       "│ l_c ┆     ┆     ┆     ┆     ┆     ┆     ┆     ┆     ┆     ┆     ┆ 082 ┆ 781 ┆     ┆ 984 ┆        │\n",
       "│ oun ┆     ┆     ┆     ┆     ┆     ┆     ┆     ┆     ┆     ┆     ┆ 1   ┆ 35e ┆     ┆ 69  ┆        │\n",
       "│ t   ┆     ┆     ┆     ┆     ┆     ┆     ┆     ┆     ┆     ┆     ┆     ┆ 6   ┆     ┆     ┆        │\n",
       "│ mea ┆ 100 ┆ 1.3 ┆ 201 ┆ 6.5 ┆ 15. ┆ nul ┆ nul ┆ nul ┆ -4. ┆ nul ┆ nul ┆ 509 ┆ 556 ┆ nul ┆ null   │\n",
       "│ n   ┆ 1.0 ┆ 513 ┆ 1.9 ┆ 250 ┆ 718 ┆ l   ┆ l   ┆ l   ┆ 769 ┆ l   ┆ l   ┆ 56. ┆ 1.1 ┆ l   ┆        │\n",
       "│     ┆ 193 ┆ 66  ┆ 551 ┆ 64  ┆ 123 ┆     ┆     ┆     ┆ 2e1 ┆     ┆     ┆ 442 ┆ 712 ┆     ┆        │\n",
       "│     ┆ 35  ┆     ┆ 7   ┆     ┆     ┆     ┆     ┆     ┆ 7   ┆     ┆     ┆ 115 ┆ 53  ┆     ┆        │\n",
       "│ std ┆ 569 ┆ 1.4 ┆ 5.1 ┆ 3.4 ┆ 8.7 ┆ nul ┆ nul ┆ nul ┆ 4.7 ┆ nul ┆ nul ┆ 293 ┆ 879 ┆ nul ┆ null   │\n",
       "│     ┆ .46 ┆ 071 ┆ 059 ┆ 723 ┆ 940 ┆ l   ┆ l   ┆ l   ┆ 589 ┆ l   ┆ l   ┆ 97. ┆ .31 ┆ l   ┆        │\n",
       "│     ┆ 115 ┆ 54  ┆ 21  ┆ 55  ┆ 73  ┆     ┆     ┆     ┆ e18 ┆     ┆     ┆ 065 ┆ 543 ┆     ┆        │\n",
       "│     ┆ 7   ┆     ┆     ┆     ┆     ┆     ┆     ┆     ┆     ┆     ┆     ┆ 949 ┆ 3   ┆     ┆        │\n",
       "│ min ┆ 0.0 ┆ 0.0 ┆ 199 ┆ 1.0 ┆ 1.0 ┆ 00: ┆ $-0 ┆ Chi ┆ -9. ┆ Aar ┆ AA  ┆ 501 ┆ 171 ┆ Bad ┆ No     │\n",
       "│     ┆     ┆     ┆ 1.0 ┆     ┆     ┆ 00  ┆ .00 ┆ p   ┆ 222 ┆ ons ┆     ┆ .0  ┆ 1.0 ┆ CVV ┆        │\n",
       "│     ┆     ┆     ┆     ┆     ┆     ┆     ┆     ┆ Tra ┆ 9e1 ┆ bur ┆     ┆     ┆     ┆     ┆        │\n",
       "│     ┆     ┆     ┆     ┆     ┆     ┆     ┆     ┆ nsa ┆ 8   ┆ g   ┆     ┆     ┆     ┆     ┆        │\n",
       "│     ┆     ┆     ┆     ┆     ┆     ┆     ┆     ┆ cti ┆     ┆     ┆     ┆     ┆     ┆     ┆        │\n",
       "│     ┆     ┆     ┆     ┆     ┆     ┆     ┆     ┆ on  ┆     ┆     ┆     ┆     ┆     ┆     ┆        │\n",
       "│ 25% ┆ 510 ┆ 0.0 ┆ 200 ┆ 3.0 ┆ 8.0 ┆ nul ┆ nul ┆ nul ┆ -4. ┆ nul ┆ nul ┆ 283 ┆ 530 ┆ nul ┆ null   │\n",
       "│     ┆ .0  ┆     ┆ 8.0 ┆     ┆     ┆ l   ┆ l   ┆ l   ┆ 500 ┆ l   ┆ l   ┆ 74. ┆ 0.0 ┆ l   ┆        │\n",
       "│     ┆     ┆     ┆     ┆     ┆     ┆     ┆     ┆     ┆ 5e1 ┆     ┆     ┆ 0   ┆     ┆     ┆        │\n",
       "│     ┆     ┆     ┆     ┆     ┆     ┆     ┆     ┆     ┆ 8   ┆     ┆     ┆     ┆     ┆     ┆        │\n",
       "│ 50% ┆ 100 ┆ 1.0 ┆ 201 ┆ 7.0 ┆ 16. ┆ nul ┆ nul ┆ nul ┆ -7. ┆ nul ┆ nul ┆ 467 ┆ 549 ┆ nul ┆ null   │\n",
       "│     ┆ 6.0 ┆     ┆ 3.0 ┆     ┆ 0   ┆ l   ┆ l   ┆ l   ┆ 946 ┆ l   ┆ l   ┆ 42. ┆ 9.0 ┆ l   ┆        │\n",
       "│     ┆     ┆     ┆     ┆     ┆     ┆     ┆     ┆     ┆ 8e1 ┆     ┆     ┆ 0   ┆     ┆     ┆        │\n",
       "│     ┆     ┆     ┆     ┆     ┆     ┆     ┆     ┆     ┆ 7   ┆     ┆     ┆     ┆     ┆     ┆        │\n",
       "│ 75% ┆ 147 ┆ 2.0 ┆ 201 ┆ 10. ┆ 23. ┆ nul ┆ nul ┆ nul ┆ 3.1 ┆ nul ┆ nul ┆ 775 ┆ 581 ┆ nul ┆ null   │\n",
       "│     ┆ 7.0 ┆     ┆ 6.0 ┆ 0   ┆ 0   ┆ l   ┆ l   ┆ l   ┆ 895 ┆ l   ┆ l   ┆ 64. ┆ 2.0 ┆ l   ┆        │\n",
       "│     ┆     ┆     ┆     ┆     ┆     ┆     ┆     ┆     ┆ e18 ┆     ┆     ┆ 0   ┆     ┆     ┆        │\n",
       "│ max ┆ 199 ┆ 8.0 ┆ 202 ┆ 12. ┆ 31. ┆ 23: ┆ $99 ┆ Swi ┆ 9.2 ┆ Zwo ┆ Zim ┆ 999 ┆ 940 ┆ Tec ┆ Yes    │\n",
       "│     ┆ 9.0 ┆     ┆ 0.0 ┆ 0   ┆ 0   ┆ 59  ┆ 9.9 ┆ pe  ┆ 233 ┆ lle ┆ bab ┆ 28. ┆ 2.0 ┆ hni ┆        │\n",
       "│     ┆     ┆     ┆     ┆     ┆     ┆     ┆ 7   ┆ Tra ┆ e18 ┆     ┆ we  ┆ 0   ┆     ┆ cal ┆        │\n",
       "│     ┆     ┆     ┆     ┆     ┆     ┆     ┆     ┆ nsa ┆     ┆     ┆     ┆     ┆     ┆ Gli ┆        │\n",
       "│     ┆     ┆     ┆     ┆     ┆     ┆     ┆     ┆ cti ┆     ┆     ┆     ┆     ┆     ┆ tch ┆        │\n",
       "│     ┆     ┆     ┆     ┆     ┆     ┆     ┆     ┆ on  ┆     ┆     ┆     ┆     ┆     ┆     ┆        │\n",
       "└─────┴─────┴─────┴─────┴─────┴─────┴─────┴─────┴─────┴─────┴─────┴─────┴─────┴─────┴─────┴────────┘"
      ]
     },
     "execution_count": 9,
     "metadata": {},
     "output_type": "execute_result"
    }
   ],
   "source": [
    "print('Summary statistics: ')\n",
    "transactions_df.describe()"
   ]
  },
  {
   "cell_type": "markdown",
   "metadata": {},
   "source": [
    "From the summary statistics presented above, it's challenging to discern clear insights due to the raw and unclean state of the data. Post-cleanup, we will conduct another round of summary statistics to better understand the dataset."
   ]
  },
  {
   "cell_type": "markdown",
   "metadata": {},
   "source": [
    "### Data Cleaning and Features Transformation"
   ]
  },
  {
   "cell_type": "code",
   "execution_count": 10,
   "metadata": {},
   "outputs": [],
   "source": [
    "# clone the dataframe\n",
    "transactions_prepared = transactions_df.clone()"
   ]
  },
  {
   "cell_type": "markdown",
   "metadata": {},
   "source": [
    "We are set to perform initial data cleaning tasks. These include removing unnecessary characters, typecasting columns for consistency, and creating new features to enrich our dataset."
   ]
  },
  {
   "cell_type": "code",
   "execution_count": 11,
   "metadata": {},
   "outputs": [
    {
     "name": "stderr",
     "output_type": "stream",
     "text": [
      "sys:1: CategoricalRemappingWarning: Local categoricals have different encodings, expensive re-encoding is done to perform this merge operation. Consider using a StringCache or an Enum type if the categories are known in advance\n"
     ]
    }
   ],
   "source": [
    "# type casting, remove unnecesarry characters, create new datetime column\n",
    "transactions_prepared = transactions_prepared.with_columns([\n",
    "    pl.col(\"Amount\").str.strip_chars(\"$\").cast(pl.Float64).abs(), # remove dollar sign, cast to float, turn into absolute incase there's minus trx which is not make sense\n",
    "    pl.col(\"Merchant Name\").cast(pl.Utf8), # cast to string\n",
    "    pl.col(\"MCC\").cast(pl.Utf8).cast(pl.Categorical), # cast to categorical\n",
    "    pl.col(\"Use Chip\").cast(pl.Categorical), \n",
    "    pl.col(\"Errors?\").cast(pl.Categorical), \n",
    "\n",
    "    # create 'timestamp_transaction' column\n",
    "    (pl.col(\"Year\").cast(pl.Utf8) + \"-\" +\n",
    "     pl.col(\"Month\").cast(pl.Utf8).str.zfill(2) + \"-\" +  # add leading zero\n",
    "     pl.col(\"Day\").cast(pl.Utf8).str.zfill(2) + \" \" + \n",
    "     pl.col(\"Time\")).str.strptime(pl.Datetime, \"%Y-%m-%d %H:%M\").alias(\"timestamp_transaction\"),\n",
    "]).drop([\"Year\", \"Month\", \"Day\", \"Time\"])  # drop unnecessary columns\n",
    "\n",
    "# extract datetime information\n",
    "# fill missing values\n",
    "transactions_prepared = transactions_prepared.with_columns([\n",
    "    pl.col(\"timestamp_transaction\").dt.weekday().alias(\"weekday\"),\n",
    "    pl.col(\"timestamp_transaction\").dt.hour().alias(\"hour\"),\n",
    "    pl.col(\"timestamp_transaction\").dt.minute().alias(\"minute\"),\n",
    "    pl.col(\"Errors?\").fill_null(\"No Error\"), # fill missing values as No Error\n",
    "    pl.col(\"Merchant City\").fill_null(\"NA\"), # fill null values as NA\n",
    "    pl.col(\"Merchant State\").fill_null(\"NA\"),\n",
    "    pl.col(\"Zip\").fill_null(\"NA\").str.strip_chars(\".0\"),\n",
    "])"
   ]
  },
  {
   "cell_type": "code",
   "execution_count": 12,
   "metadata": {},
   "outputs": [
    {
     "data": {
      "text/html": [
       "<div><style>\n",
       ".dataframe > thead > tr,\n",
       ".dataframe > tbody > tr {\n",
       "  text-align: right;\n",
       "  white-space: pre-wrap;\n",
       "}\n",
       "</style>\n",
       "<small>shape: (5, 15)</small><table border=\"1\" class=\"dataframe\"><thead><tr><th>user_id</th><th>card_index</th><th>trx_amount</th><th>trx_method</th><th>merch_name</th><th>merch_city</th><th>merch_state</th><th>zip_code</th><th>merch_category_code</th><th>error_status</th><th>is_fraud</th><th>timestamp_transaction</th><th>weekday</th><th>hour</th><th>minute</th></tr><tr><td>i64</td><td>i64</td><td>f64</td><td>cat</td><td>str</td><td>str</td><td>str</td><td>str</td><td>cat</td><td>cat</td><td>str</td><td>datetime[μs]</td><td>i8</td><td>i8</td><td>i8</td></tr></thead><tbody><tr><td>0</td><td>0</td><td>134.09</td><td>&quot;Swipe Transact…</td><td>&quot;35272132461278…</td><td>&quot;La Verne&quot;</td><td>&quot;CA&quot;</td><td>&quot;9175&quot;</td><td>&quot;5300&quot;</td><td>&quot;No Error&quot;</td><td>&quot;No&quot;</td><td>2002-09-01 06:21:00</td><td>7</td><td>6</td><td>21</td></tr><tr><td>0</td><td>0</td><td>38.48</td><td>&quot;Swipe Transact…</td><td>&quot;-7276120921399…</td><td>&quot;Monterey Park&quot;</td><td>&quot;CA&quot;</td><td>&quot;91754&quot;</td><td>&quot;5411&quot;</td><td>&quot;No Error&quot;</td><td>&quot;No&quot;</td><td>2002-09-01 06:42:00</td><td>7</td><td>6</td><td>42</td></tr><tr><td>0</td><td>0</td><td>120.34</td><td>&quot;Swipe Transact…</td><td>&quot;-7276120921399…</td><td>&quot;Monterey Park&quot;</td><td>&quot;CA&quot;</td><td>&quot;91754&quot;</td><td>&quot;5411&quot;</td><td>&quot;No Error&quot;</td><td>&quot;No&quot;</td><td>2002-09-02 06:22:00</td><td>1</td><td>6</td><td>22</td></tr><tr><td>0</td><td>0</td><td>128.95</td><td>&quot;Swipe Transact…</td><td>&quot;34145274595791…</td><td>&quot;Monterey Park&quot;</td><td>&quot;CA&quot;</td><td>&quot;91754&quot;</td><td>&quot;5651&quot;</td><td>&quot;No Error&quot;</td><td>&quot;No&quot;</td><td>2002-09-02 17:45:00</td><td>1</td><td>17</td><td>45</td></tr><tr><td>0</td><td>0</td><td>104.71</td><td>&quot;Swipe Transact…</td><td>&quot;58172184461787…</td><td>&quot;La Verne&quot;</td><td>&quot;CA&quot;</td><td>&quot;9175&quot;</td><td>&quot;5912&quot;</td><td>&quot;No Error&quot;</td><td>&quot;No&quot;</td><td>2002-09-03 06:23:00</td><td>2</td><td>6</td><td>23</td></tr></tbody></table></div>"
      ],
      "text/plain": [
       "shape: (5, 15)\n",
       "┌─────┬─────┬─────┬─────┬─────┬─────┬─────┬─────┬─────┬─────┬─────┬────────┬────────┬──────┬───────┐\n",
       "│ use ┆ car ┆ trx ┆ trx ┆ mer ┆ mer ┆ mer ┆ zip ┆ mer ┆ err ┆ is_ ┆ timest ┆ weekda ┆ hour ┆ minut │\n",
       "│ r_i ┆ d_i ┆ _am ┆ _me ┆ ch_ ┆ ch_ ┆ ch_ ┆ _co ┆ ch_ ┆ or_ ┆ fra ┆ amp_tr ┆ y      ┆ ---  ┆ e     │\n",
       "│ d   ┆ nde ┆ oun ┆ tho ┆ nam ┆ cit ┆ sta ┆ de  ┆ cat ┆ sta ┆ ud  ┆ ansact ┆ ---    ┆ i8   ┆ ---   │\n",
       "│ --- ┆ x   ┆ t   ┆ d   ┆ e   ┆ y   ┆ te  ┆ --- ┆ ego ┆ tus ┆ --- ┆ ion    ┆ i8     ┆      ┆ i8    │\n",
       "│ i64 ┆ --- ┆ --- ┆ --- ┆ --- ┆ --- ┆ --- ┆ str ┆ ry_ ┆ --- ┆ str ┆ ---    ┆        ┆      ┆       │\n",
       "│     ┆ i64 ┆ f64 ┆ cat ┆ str ┆ str ┆ str ┆     ┆ cod ┆ cat ┆     ┆ dateti ┆        ┆      ┆       │\n",
       "│     ┆     ┆     ┆     ┆     ┆     ┆     ┆     ┆ e   ┆     ┆     ┆ me[μs] ┆        ┆      ┆       │\n",
       "│     ┆     ┆     ┆     ┆     ┆     ┆     ┆     ┆ --- ┆     ┆     ┆        ┆        ┆      ┆       │\n",
       "│     ┆     ┆     ┆     ┆     ┆     ┆     ┆     ┆ cat ┆     ┆     ┆        ┆        ┆      ┆       │\n",
       "╞═════╪═════╪═════╪═════╪═════╪═════╪═════╪═════╪═════╪═════╪═════╪════════╪════════╪══════╪═══════╡\n",
       "│ 0   ┆ 0   ┆ 134 ┆ Swi ┆ 352 ┆ La  ┆ CA  ┆ 917 ┆ 530 ┆ No  ┆ No  ┆ 2002-0 ┆ 7      ┆ 6    ┆ 21    │\n",
       "│     ┆     ┆ .09 ┆ pe  ┆ 721 ┆ Ver ┆     ┆ 5   ┆ 0   ┆ Err ┆     ┆ 9-01   ┆        ┆      ┆       │\n",
       "│     ┆     ┆     ┆ Tra ┆ 324 ┆ ne  ┆     ┆     ┆     ┆ or  ┆     ┆ 06:21: ┆        ┆      ┆       │\n",
       "│     ┆     ┆     ┆ nsa ┆ 612 ┆     ┆     ┆     ┆     ┆     ┆     ┆ 00     ┆        ┆      ┆       │\n",
       "│     ┆     ┆     ┆ cti ┆ 787 ┆     ┆     ┆     ┆     ┆     ┆     ┆        ┆        ┆      ┆       │\n",
       "│     ┆     ┆     ┆ on  ┆ 695 ┆     ┆     ┆     ┆     ┆     ┆     ┆        ┆        ┆      ┆       │\n",
       "│     ┆     ┆     ┆     ┆ 3   ┆     ┆     ┆     ┆     ┆     ┆     ┆        ┆        ┆      ┆       │\n",
       "│ 0   ┆ 0   ┆ 38. ┆ Swi ┆ -72 ┆ Mon ┆ CA  ┆ 917 ┆ 541 ┆ No  ┆ No  ┆ 2002-0 ┆ 7      ┆ 6    ┆ 42    │\n",
       "│     ┆     ┆ 48  ┆ pe  ┆ 761 ┆ ter ┆     ┆ 54  ┆ 1   ┆ Err ┆     ┆ 9-01   ┆        ┆      ┆       │\n",
       "│     ┆     ┆     ┆ Tra ┆ 209 ┆ ey  ┆     ┆     ┆     ┆ or  ┆     ┆ 06:42: ┆        ┆      ┆       │\n",
       "│     ┆     ┆     ┆ nsa ┆ 213 ┆ Par ┆     ┆     ┆     ┆     ┆     ┆ 00     ┆        ┆      ┆       │\n",
       "│     ┆     ┆     ┆ cti ┆ 991 ┆ k   ┆     ┆     ┆     ┆     ┆     ┆        ┆        ┆      ┆       │\n",
       "│     ┆     ┆     ┆ on  ┆ 604 ┆     ┆     ┆     ┆     ┆     ┆     ┆        ┆        ┆      ┆       │\n",
       "│     ┆     ┆     ┆     ┆ 3   ┆     ┆     ┆     ┆     ┆     ┆     ┆        ┆        ┆      ┆       │\n",
       "│ 0   ┆ 0   ┆ 120 ┆ Swi ┆ -72 ┆ Mon ┆ CA  ┆ 917 ┆ 541 ┆ No  ┆ No  ┆ 2002-0 ┆ 1      ┆ 6    ┆ 22    │\n",
       "│     ┆     ┆ .34 ┆ pe  ┆ 761 ┆ ter ┆     ┆ 54  ┆ 1   ┆ Err ┆     ┆ 9-02   ┆        ┆      ┆       │\n",
       "│     ┆     ┆     ┆ Tra ┆ 209 ┆ ey  ┆     ┆     ┆     ┆ or  ┆     ┆ 06:22: ┆        ┆      ┆       │\n",
       "│     ┆     ┆     ┆ nsa ┆ 213 ┆ Par ┆     ┆     ┆     ┆     ┆     ┆ 00     ┆        ┆      ┆       │\n",
       "│     ┆     ┆     ┆ cti ┆ 991 ┆ k   ┆     ┆     ┆     ┆     ┆     ┆        ┆        ┆      ┆       │\n",
       "│     ┆     ┆     ┆ on  ┆ 604 ┆     ┆     ┆     ┆     ┆     ┆     ┆        ┆        ┆      ┆       │\n",
       "│     ┆     ┆     ┆     ┆ 3   ┆     ┆     ┆     ┆     ┆     ┆     ┆        ┆        ┆      ┆       │\n",
       "│ 0   ┆ 0   ┆ 128 ┆ Swi ┆ 341 ┆ Mon ┆ CA  ┆ 917 ┆ 565 ┆ No  ┆ No  ┆ 2002-0 ┆ 1      ┆ 17   ┆ 45    │\n",
       "│     ┆     ┆ .95 ┆ pe  ┆ 452 ┆ ter ┆     ┆ 54  ┆ 1   ┆ Err ┆     ┆ 9-02   ┆        ┆      ┆       │\n",
       "│     ┆     ┆     ┆ Tra ┆ 745 ┆ ey  ┆     ┆     ┆     ┆ or  ┆     ┆ 17:45: ┆        ┆      ┆       │\n",
       "│     ┆     ┆     ┆ nsa ┆ 957 ┆ Par ┆     ┆     ┆     ┆     ┆     ┆ 00     ┆        ┆      ┆       │\n",
       "│     ┆     ┆     ┆ cti ┆ 910 ┆ k   ┆     ┆     ┆     ┆     ┆     ┆        ┆        ┆      ┆       │\n",
       "│     ┆     ┆     ┆ on  ┆ 677 ┆     ┆     ┆     ┆     ┆     ┆     ┆        ┆        ┆      ┆       │\n",
       "│     ┆     ┆     ┆     ┆ 0   ┆     ┆     ┆     ┆     ┆     ┆     ┆        ┆        ┆      ┆       │\n",
       "│ 0   ┆ 0   ┆ 104 ┆ Swi ┆ 581 ┆ La  ┆ CA  ┆ 917 ┆ 591 ┆ No  ┆ No  ┆ 2002-0 ┆ 2      ┆ 6    ┆ 23    │\n",
       "│     ┆     ┆ .71 ┆ pe  ┆ 721 ┆ Ver ┆     ┆ 5   ┆ 2   ┆ Err ┆     ┆ 9-03   ┆        ┆      ┆       │\n",
       "│     ┆     ┆     ┆ Tra ┆ 844 ┆ ne  ┆     ┆     ┆     ┆ or  ┆     ┆ 06:23: ┆        ┆      ┆       │\n",
       "│     ┆     ┆     ┆ nsa ┆ 617 ┆     ┆     ┆     ┆     ┆     ┆     ┆ 00     ┆        ┆      ┆       │\n",
       "│     ┆     ┆     ┆ cti ┆ 873 ┆     ┆     ┆     ┆     ┆     ┆     ┆        ┆        ┆      ┆       │\n",
       "│     ┆     ┆     ┆ on  ┆ 626 ┆     ┆     ┆     ┆     ┆     ┆     ┆        ┆        ┆      ┆       │\n",
       "│     ┆     ┆     ┆     ┆ 7   ┆     ┆     ┆     ┆     ┆     ┆     ┆        ┆        ┆      ┆       │\n",
       "└─────┴─────┴─────┴─────┴─────┴─────┴─────┴─────┴─────┴─────┴─────┴────────┴────────┴──────┴───────┘"
      ]
     },
     "execution_count": 12,
     "metadata": {},
     "output_type": "execute_result"
    }
   ],
   "source": [
    "# rename columns\n",
    "transactions_prepared = transactions_prepared.rename({\n",
    "    \"User\":\"user_id\", \"Card\":\"card_index\", \"Amount\":\"trx_amount\", \"Use Chip\":\"trx_method\",\n",
    "    \"Merchant Name\":\"merch_name\", \"Merchant State\":\"merch_state\", \"Merchant City\":\"merch_city\", \"Zip\":\"zip_code\",\n",
    "    \"MCC\":\"merch_category_code\", \"Errors?\":\"error_status\", \"Is Fraud?\":\"is_fraud\"\n",
    "})\n",
    "\n",
    "transactions_prepared.head()"
   ]
  },
  {
   "cell_type": "markdown",
   "metadata": {},
   "source": [
    "Columns are renamed for clarity and consistency, which aids in making the dataset more understandable and easier to work with during further analysis and modeling."
   ]
  },
  {
   "cell_type": "code",
   "execution_count": 13,
   "metadata": {},
   "outputs": [
    {
     "name": "stdout",
     "output_type": "stream",
     "text": [
      "Summary statistics: \n"
     ]
    },
    {
     "data": {
      "text/html": [
       "<div><style>\n",
       ".dataframe > thead > tr,\n",
       ".dataframe > tbody > tr {\n",
       "  text-align: right;\n",
       "  white-space: pre-wrap;\n",
       "}\n",
       "</style>\n",
       "<small>shape: (9, 16)</small><table border=\"1\" class=\"dataframe\"><thead><tr><th>describe</th><th>user_id</th><th>card_index</th><th>trx_amount</th><th>trx_method</th><th>merch_name</th><th>merch_city</th><th>merch_state</th><th>zip_code</th><th>merch_category_code</th><th>error_status</th><th>is_fraud</th><th>timestamp_transaction</th><th>weekday</th><th>hour</th><th>minute</th></tr><tr><td>str</td><td>f64</td><td>f64</td><td>f64</td><td>str</td><td>str</td><td>str</td><td>str</td><td>str</td><td>str</td><td>str</td><td>str</td><td>str</td><td>f64</td><td>f64</td><td>f64</td></tr></thead><tbody><tr><td>&quot;count&quot;</td><td>2.43869e7</td><td>2.43869e7</td><td>2.43869e7</td><td>&quot;24386900&quot;</td><td>&quot;24386900&quot;</td><td>&quot;24386900&quot;</td><td>&quot;24386900&quot;</td><td>&quot;24386900&quot;</td><td>&quot;24386900&quot;</td><td>&quot;24386900&quot;</td><td>&quot;24386900&quot;</td><td>&quot;24386900&quot;</td><td>2.43869e7</td><td>2.43869e7</td><td>2.43869e7</td></tr><tr><td>&quot;null_count&quot;</td><td>0.0</td><td>0.0</td><td>0.0</td><td>&quot;0&quot;</td><td>&quot;0&quot;</td><td>&quot;0&quot;</td><td>&quot;0&quot;</td><td>&quot;0&quot;</td><td>&quot;0&quot;</td><td>&quot;0&quot;</td><td>&quot;0&quot;</td><td>&quot;0&quot;</td><td>0.0</td><td>0.0</td><td>0.0</td></tr><tr><td>&quot;mean&quot;</td><td>1001.019335</td><td>1.351366</td><td>54.051265</td><td>null</td><td>null</td><td>null</td><td>null</td><td>null</td><td>null</td><td>null</td><td>null</td><td>null</td><td>4.003477</td><td>12.4142</td><td>29.585951</td></tr><tr><td>&quot;std&quot;</td><td>569.461157</td><td>1.407154</td><td>75.564936</td><td>null</td><td>null</td><td>null</td><td>null</td><td>null</td><td>null</td><td>null</td><td>null</td><td>null</td><td>1.999703</td><td>5.065882</td><td>17.318349</td></tr><tr><td>&quot;min&quot;</td><td>0.0</td><td>0.0</td><td>0.0</td><td>null</td><td>&quot;-1000080909058…</td><td>&quot;Aaronsburg&quot;</td><td>&quot;AA&quot;</td><td>&quot;10001&quot;</td><td>null</td><td>null</td><td>&quot;No&quot;</td><td>&quot;1991-01-02 07:…</td><td>1.0</td><td>0.0</td><td>0.0</td></tr><tr><td>&quot;25%&quot;</td><td>510.0</td><td>0.0</td><td>12.22</td><td>null</td><td>null</td><td>null</td><td>null</td><td>null</td><td>null</td><td>null</td><td>null</td><td>null</td><td>2.0</td><td>9.0</td><td>15.0</td></tr><tr><td>&quot;50%&quot;</td><td>1006.0</td><td>1.0</td><td>36.17</td><td>null</td><td>null</td><td>null</td><td>null</td><td>null</td><td>null</td><td>null</td><td>null</td><td>null</td><td>4.0</td><td>12.0</td><td>30.0</td></tr><tr><td>&quot;75%&quot;</td><td>1477.0</td><td>2.0</td><td>72.0</td><td>null</td><td>null</td><td>null</td><td>null</td><td>null</td><td>null</td><td>null</td><td>null</td><td>null</td><td>6.0</td><td>16.0</td><td>45.0</td></tr><tr><td>&quot;max&quot;</td><td>1999.0</td><td>8.0</td><td>12390.5</td><td>null</td><td>&quot;99968297410928…</td><td>&quot;Zwolle&quot;</td><td>&quot;Zimbabwe&quot;</td><td>&quot;NA&quot;</td><td>null</td><td>null</td><td>&quot;Yes&quot;</td><td>&quot;2020-02-28 23:…</td><td>7.0</td><td>23.0</td><td>59.0</td></tr></tbody></table></div>"
      ],
      "text/plain": [
       "shape: (9, 16)\n",
       "┌─────┬─────┬─────┬─────┬─────┬─────┬─────┬─────┬─────┬─────┬─────┬─────┬─────┬─────┬─────┬────────┐\n",
       "│ des ┆ use ┆ car ┆ trx ┆ trx ┆ mer ┆ mer ┆ mer ┆ zip ┆ mer ┆ err ┆ is_ ┆ tim ┆ wee ┆ hou ┆ minute │\n",
       "│ cri ┆ r_i ┆ d_i ┆ _am ┆ _me ┆ ch_ ┆ ch_ ┆ ch_ ┆ _co ┆ ch_ ┆ or_ ┆ fra ┆ est ┆ kda ┆ r   ┆ ---    │\n",
       "│ be  ┆ d   ┆ nde ┆ oun ┆ tho ┆ nam ┆ cit ┆ sta ┆ de  ┆ cat ┆ sta ┆ ud  ┆ amp ┆ y   ┆ --- ┆ f64    │\n",
       "│ --- ┆ --- ┆ x   ┆ t   ┆ d   ┆ e   ┆ y   ┆ te  ┆ --- ┆ ego ┆ tus ┆ --- ┆ _tr ┆ --- ┆ f64 ┆        │\n",
       "│ str ┆ f64 ┆ --- ┆ --- ┆ --- ┆ --- ┆ --- ┆ --- ┆ str ┆ ry_ ┆ --- ┆ str ┆ ans ┆ f64 ┆     ┆        │\n",
       "│     ┆     ┆ f64 ┆ f64 ┆ str ┆ str ┆ str ┆ str ┆     ┆ cod ┆ str ┆     ┆ act ┆     ┆     ┆        │\n",
       "│     ┆     ┆     ┆     ┆     ┆     ┆     ┆     ┆     ┆ e   ┆     ┆     ┆ ion ┆     ┆     ┆        │\n",
       "│     ┆     ┆     ┆     ┆     ┆     ┆     ┆     ┆     ┆ --- ┆     ┆     ┆ --- ┆     ┆     ┆        │\n",
       "│     ┆     ┆     ┆     ┆     ┆     ┆     ┆     ┆     ┆ str ┆     ┆     ┆ str ┆     ┆     ┆        │\n",
       "╞═════╪═════╪═════╪═════╪═════╪═════╪═════╪═════╪═════╪═════╪═════╪═════╪═════╪═════╪═════╪════════╡\n",
       "│ cou ┆ 2.4 ┆ 2.4 ┆ 2.4 ┆ 243 ┆ 243 ┆ 243 ┆ 243 ┆ 243 ┆ 243 ┆ 243 ┆ 243 ┆ 243 ┆ 2.4 ┆ 2.4 ┆ 2.4386 │\n",
       "│ nt  ┆ 386 ┆ 386 ┆ 386 ┆ 869 ┆ 869 ┆ 869 ┆ 869 ┆ 869 ┆ 869 ┆ 869 ┆ 869 ┆ 869 ┆ 386 ┆ 386 ┆ 9e7    │\n",
       "│     ┆ 9e7 ┆ 9e7 ┆ 9e7 ┆ 00  ┆ 00  ┆ 00  ┆ 00  ┆ 00  ┆ 00  ┆ 00  ┆ 00  ┆ 00  ┆ 9e7 ┆ 9e7 ┆        │\n",
       "│ nul ┆ 0.0 ┆ 0.0 ┆ 0.0 ┆ 0   ┆ 0   ┆ 0   ┆ 0   ┆ 0   ┆ 0   ┆ 0   ┆ 0   ┆ 0   ┆ 0.0 ┆ 0.0 ┆ 0.0    │\n",
       "│ l_c ┆     ┆     ┆     ┆     ┆     ┆     ┆     ┆     ┆     ┆     ┆     ┆     ┆     ┆     ┆        │\n",
       "│ oun ┆     ┆     ┆     ┆     ┆     ┆     ┆     ┆     ┆     ┆     ┆     ┆     ┆     ┆     ┆        │\n",
       "│ t   ┆     ┆     ┆     ┆     ┆     ┆     ┆     ┆     ┆     ┆     ┆     ┆     ┆     ┆     ┆        │\n",
       "│ mea ┆ 100 ┆ 1.3 ┆ 54. ┆ nul ┆ nul ┆ nul ┆ nul ┆ nul ┆ nul ┆ nul ┆ nul ┆ nul ┆ 4.0 ┆ 12. ┆ 29.585 │\n",
       "│ n   ┆ 1.0 ┆ 513 ┆ 051 ┆ l   ┆ l   ┆ l   ┆ l   ┆ l   ┆ l   ┆ l   ┆ l   ┆ l   ┆ 034 ┆ 414 ┆ 951    │\n",
       "│     ┆ 193 ┆ 66  ┆ 265 ┆     ┆     ┆     ┆     ┆     ┆     ┆     ┆     ┆     ┆ 77  ┆ 2   ┆        │\n",
       "│     ┆ 35  ┆     ┆     ┆     ┆     ┆     ┆     ┆     ┆     ┆     ┆     ┆     ┆     ┆     ┆        │\n",
       "│ std ┆ 569 ┆ 1.4 ┆ 75. ┆ nul ┆ nul ┆ nul ┆ nul ┆ nul ┆ nul ┆ nul ┆ nul ┆ nul ┆ 1.9 ┆ 5.0 ┆ 17.318 │\n",
       "│     ┆ .46 ┆ 071 ┆ 564 ┆ l   ┆ l   ┆ l   ┆ l   ┆ l   ┆ l   ┆ l   ┆ l   ┆ l   ┆ 997 ┆ 658 ┆ 349    │\n",
       "│     ┆ 115 ┆ 54  ┆ 936 ┆     ┆     ┆     ┆     ┆     ┆     ┆     ┆     ┆     ┆ 03  ┆ 82  ┆        │\n",
       "│     ┆ 7   ┆     ┆     ┆     ┆     ┆     ┆     ┆     ┆     ┆     ┆     ┆     ┆     ┆     ┆        │\n",
       "│ min ┆ 0.0 ┆ 0.0 ┆ 0.0 ┆ nul ┆ -10 ┆ Aar ┆ AA  ┆ 100 ┆ nul ┆ nul ┆ No  ┆ 199 ┆ 1.0 ┆ 0.0 ┆ 0.0    │\n",
       "│     ┆     ┆     ┆     ┆ l   ┆ 000 ┆ ons ┆     ┆ 01  ┆ l   ┆ l   ┆     ┆ 1-0 ┆     ┆     ┆        │\n",
       "│     ┆     ┆     ┆     ┆     ┆ 809 ┆ bur ┆     ┆     ┆     ┆     ┆     ┆ 1-0 ┆     ┆     ┆        │\n",
       "│     ┆     ┆     ┆     ┆     ┆ 090 ┆ g   ┆     ┆     ┆     ┆     ┆     ┆ 2   ┆     ┆     ┆        │\n",
       "│     ┆     ┆     ┆     ┆     ┆ 584 ┆     ┆     ┆     ┆     ┆     ┆     ┆ 07: ┆     ┆     ┆        │\n",
       "│     ┆     ┆     ┆     ┆     ┆ 899 ┆     ┆     ┆     ┆     ┆     ┆     ┆ 10: ┆     ┆     ┆        │\n",
       "│     ┆     ┆     ┆     ┆     ┆ 71  ┆     ┆     ┆     ┆     ┆     ┆     ┆ 00  ┆     ┆     ┆        │\n",
       "│ 25% ┆ 510 ┆ 0.0 ┆ 12. ┆ nul ┆ nul ┆ nul ┆ nul ┆ nul ┆ nul ┆ nul ┆ nul ┆ nul ┆ 2.0 ┆ 9.0 ┆ 15.0   │\n",
       "│     ┆ .0  ┆     ┆ 22  ┆ l   ┆ l   ┆ l   ┆ l   ┆ l   ┆ l   ┆ l   ┆ l   ┆ l   ┆     ┆     ┆        │\n",
       "│ 50% ┆ 100 ┆ 1.0 ┆ 36. ┆ nul ┆ nul ┆ nul ┆ nul ┆ nul ┆ nul ┆ nul ┆ nul ┆ nul ┆ 4.0 ┆ 12. ┆ 30.0   │\n",
       "│     ┆ 6.0 ┆     ┆ 17  ┆ l   ┆ l   ┆ l   ┆ l   ┆ l   ┆ l   ┆ l   ┆ l   ┆ l   ┆     ┆ 0   ┆        │\n",
       "│ 75% ┆ 147 ┆ 2.0 ┆ 72. ┆ nul ┆ nul ┆ nul ┆ nul ┆ nul ┆ nul ┆ nul ┆ nul ┆ nul ┆ 6.0 ┆ 16. ┆ 45.0   │\n",
       "│     ┆ 7.0 ┆     ┆ 0   ┆ l   ┆ l   ┆ l   ┆ l   ┆ l   ┆ l   ┆ l   ┆ l   ┆ l   ┆     ┆ 0   ┆        │\n",
       "│ max ┆ 199 ┆ 8.0 ┆ 123 ┆ nul ┆ 999 ┆ Zwo ┆ Zim ┆ NA  ┆ nul ┆ nul ┆ Yes ┆ 202 ┆ 7.0 ┆ 23. ┆ 59.0   │\n",
       "│     ┆ 9.0 ┆     ┆ 90. ┆ l   ┆ 682 ┆ lle ┆ bab ┆     ┆ l   ┆ l   ┆     ┆ 0-0 ┆     ┆ 0   ┆        │\n",
       "│     ┆     ┆     ┆ 5   ┆     ┆ 974 ┆     ┆ we  ┆     ┆     ┆     ┆     ┆ 2-2 ┆     ┆     ┆        │\n",
       "│     ┆     ┆     ┆     ┆     ┆ 109 ┆     ┆     ┆     ┆     ┆     ┆     ┆ 8   ┆     ┆     ┆        │\n",
       "│     ┆     ┆     ┆     ┆     ┆ 284 ┆     ┆     ┆     ┆     ┆     ┆     ┆ 23: ┆     ┆     ┆        │\n",
       "│     ┆     ┆     ┆     ┆     ┆ 083 ┆     ┆     ┆     ┆     ┆     ┆     ┆ 58: ┆     ┆     ┆        │\n",
       "│     ┆     ┆     ┆     ┆     ┆     ┆     ┆     ┆     ┆     ┆     ┆     ┆ 00  ┆     ┆     ┆        │\n",
       "└─────┴─────┴─────┴─────┴─────┴─────┴─────┴─────┴─────┴─────┴─────┴─────┴─────┴─────┴─────┴────────┘"
      ]
     },
     "execution_count": 13,
     "metadata": {},
     "output_type": "execute_result"
    }
   ],
   "source": [
    "print('Summary statistics: ')\n",
    "transactions_prepared.describe()"
   ]
  },
  {
   "cell_type": "markdown",
   "metadata": {},
   "source": [
    "In the prepared dataframe, the summary statistics are now more insightful, particularly for the `trx_amount` and `timestamp_transaction` columns. Notably, the transaction amount varies significantly, with the smallest being $0 and the largest reaching an impressive $12,390.50. The dataset spans a substantial period, from 1991 to 2020, indicating a wide timeframe for the transactions.\n",
    "\n",
    "We will export this prepared dataframe as a Parquet file. Opting for Parquet format offers the benefits of space efficiency and faster I/O. The saved file will be utilized for more in-depth Exploratory Data Analysis (EDA) in a separate notebook, followed by the development of our machine learning model."
   ]
  },
  {
   "cell_type": "code",
   "execution_count": 14,
   "metadata": {},
   "outputs": [],
   "source": [
    "transactions_prepared.write_parquet(\"../clean-datasets/transactions_prepared.parquet\")"
   ]
  }
 ],
 "metadata": {
  "kernelspec": {
   "display_name": ".venv",
   "language": "python",
   "name": "python3"
  },
  "language_info": {
   "codemirror_mode": {
    "name": "ipython",
    "version": 3
   },
   "file_extension": ".py",
   "mimetype": "text/x-python",
   "name": "python",
   "nbconvert_exporter": "python",
   "pygments_lexer": "ipython3",
   "version": "3.9.13"
  }
 },
 "nbformat": 4,
 "nbformat_minor": 2
}
